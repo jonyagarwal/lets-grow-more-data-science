{
  "nbformat": 4,
  "nbformat_minor": 0,
  "metadata": {
    "colab": {
      "name": "Stock Market Prediction And Forecasting Using Stacked LSTM.ipynb",
      "provenance": [],
      "collapsed_sections": []
    },
    "kernelspec": {
      "name": "python3",
      "display_name": "Python 3"
    },
    "language_info": {
      "name": "python"
    }
  },
  "cells": [
    {
      "cell_type": "code",
      "metadata": {
        "id": "Hz93fXz_jTUh"
      },
      "source": [
        "#Import necessary Libraries\n",
        "import pandas as pd\n",
        "import numpy as np\n",
        "import math\n",
        "import matplotlib.pyplot as plt\n",
        "from sklearn.preprocessing import MinMaxScaler\n",
        "from sklearn.metrics import mean_squared_error\n",
        "import tensorflow as tf\n",
        "from tensorflow.python.keras.models import Sequential\n",
        "from tensorflow.python.keras.layers import Dense\n",
        "from tensorflow.python.keras.layers import LSTM\n",
        "%matplotlib inline\n"
      ],
      "execution_count": 2,
      "outputs": []
    },
    {
      "cell_type": "code",
      "metadata": {
        "colab": {
          "resources": {
            "http://localhost:8080/nbextensions/google.colab/files.js": {
              "data": "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",
              "ok": true,
              "headers": [
                [
                  "content-type",
                  "application/javascript"
                ]
              ],
              "status": 200,
              "status_text": ""
            }
          },
          "base_uri": "https://localhost:8080/",
          "height": 73
        },
        "id": "rgvd4lzbkHWm",
        "outputId": "89c42558-699a-4137-a614-38f38e89007e"
      },
      "source": [
        "from google.colab import files\n",
        "uploaded = files.upload()\n"
      ],
      "execution_count": 6,
      "outputs": [
        {
          "output_type": "display_data",
          "data": {
            "text/html": [
              "\n",
              "     <input type=\"file\" id=\"files-475ccebe-9352-4270-8617-822d3f87033d\" name=\"files[]\" multiple disabled\n",
              "        style=\"border:none\" />\n",
              "     <output id=\"result-475ccebe-9352-4270-8617-822d3f87033d\">\n",
              "      Upload widget is only available when the cell has been executed in the\n",
              "      current browser session. Please rerun this cell to enable.\n",
              "      </output>\n",
              "      <script src=\"/nbextensions/google.colab/files.js\"></script> "
            ],
            "text/plain": [
              "<IPython.core.display.HTML object>"
            ]
          },
          "metadata": {
            "tags": []
          }
        },
        {
          "output_type": "stream",
          "text": [
            "Saving Reliance_Stock.csv to Reliance_Stock.csv\n"
          ],
          "name": "stdout"
        }
      ]
    },
    {
      "cell_type": "code",
      "metadata": {
        "id": "Y5Cc_y6FlSyJ"
      },
      "source": [
        "import io\n",
        "df = pd.read_csv(io.BytesIO(uploaded['Reliance_Stock.csv']))"
      ],
      "execution_count": 9,
      "outputs": []
    },
    {
      "cell_type": "code",
      "metadata": {
        "colab": {
          "base_uri": "https://localhost:8080/",
          "height": 203
        },
        "id": "xzPOuvl8lmyg",
        "outputId": "3f4e1aa9-4a2c-40b6-86d1-eae5821b4efa"
      },
      "source": [
        "df.head()"
      ],
      "execution_count": 10,
      "outputs": [
        {
          "output_type": "execute_result",
          "data": {
            "text/html": [
              "<div>\n",
              "<style scoped>\n",
              "    .dataframe tbody tr th:only-of-type {\n",
              "        vertical-align: middle;\n",
              "    }\n",
              "\n",
              "    .dataframe tbody tr th {\n",
              "        vertical-align: top;\n",
              "    }\n",
              "\n",
              "    .dataframe thead th {\n",
              "        text-align: right;\n",
              "    }\n",
              "</style>\n",
              "<table border=\"1\" class=\"dataframe\">\n",
              "  <thead>\n",
              "    <tr style=\"text-align: right;\">\n",
              "      <th></th>\n",
              "      <th>Date</th>\n",
              "      <th>Open</th>\n",
              "      <th>High</th>\n",
              "      <th>Low</th>\n",
              "      <th>Close</th>\n",
              "      <th>Adj Close</th>\n",
              "      <th>Volume</th>\n",
              "    </tr>\n",
              "  </thead>\n",
              "  <tbody>\n",
              "    <tr>\n",
              "      <th>0</th>\n",
              "      <td>2015-06-08</td>\n",
              "      <td>453.399994</td>\n",
              "      <td>455.000000</td>\n",
              "      <td>441.549988</td>\n",
              "      <td>442.725006</td>\n",
              "      <td>425.550629</td>\n",
              "      <td>4958862.0</td>\n",
              "    </tr>\n",
              "    <tr>\n",
              "      <th>1</th>\n",
              "      <td>2015-06-09</td>\n",
              "      <td>441.774994</td>\n",
              "      <td>445.325012</td>\n",
              "      <td>438.674988</td>\n",
              "      <td>441.850006</td>\n",
              "      <td>424.709564</td>\n",
              "      <td>4184606.0</td>\n",
              "    </tr>\n",
              "    <tr>\n",
              "      <th>2</th>\n",
              "      <td>2015-06-10</td>\n",
              "      <td>443.000000</td>\n",
              "      <td>454.950012</td>\n",
              "      <td>442.500000</td>\n",
              "      <td>452.899994</td>\n",
              "      <td>435.330933</td>\n",
              "      <td>6176034.0</td>\n",
              "    </tr>\n",
              "    <tr>\n",
              "      <th>3</th>\n",
              "      <td>2015-06-11</td>\n",
              "      <td>453.000000</td>\n",
              "      <td>454.750000</td>\n",
              "      <td>436.825012</td>\n",
              "      <td>438.575012</td>\n",
              "      <td>421.561676</td>\n",
              "      <td>6709574.0</td>\n",
              "    </tr>\n",
              "    <tr>\n",
              "      <th>4</th>\n",
              "      <td>2015-06-12</td>\n",
              "      <td>439.500000</td>\n",
              "      <td>446.350006</td>\n",
              "      <td>439.125000</td>\n",
              "      <td>444.924988</td>\n",
              "      <td>427.665283</td>\n",
              "      <td>9849112.0</td>\n",
              "    </tr>\n",
              "  </tbody>\n",
              "</table>\n",
              "</div>"
            ],
            "text/plain": [
              "         Date        Open        High  ...       Close   Adj Close     Volume\n",
              "0  2015-06-08  453.399994  455.000000  ...  442.725006  425.550629  4958862.0\n",
              "1  2015-06-09  441.774994  445.325012  ...  441.850006  424.709564  4184606.0\n",
              "2  2015-06-10  443.000000  454.950012  ...  452.899994  435.330933  6176034.0\n",
              "3  2015-06-11  453.000000  454.750000  ...  438.575012  421.561676  6709574.0\n",
              "4  2015-06-12  439.500000  446.350006  ...  444.924988  427.665283  9849112.0\n",
              "\n",
              "[5 rows x 7 columns]"
            ]
          },
          "metadata": {
            "tags": []
          },
          "execution_count": 10
        }
      ]
    },
    {
      "cell_type": "code",
      "metadata": {
        "colab": {
          "base_uri": "https://localhost:8080/",
          "height": 203
        },
        "id": "cYnYZMqJlsiG",
        "outputId": "7b1ca46c-d57c-41a0-fd2a-3e4060cce279"
      },
      "source": [
        "df = df.dropna()\n",
        "df.head()"
      ],
      "execution_count": 11,
      "outputs": [
        {
          "output_type": "execute_result",
          "data": {
            "text/html": [
              "<div>\n",
              "<style scoped>\n",
              "    .dataframe tbody tr th:only-of-type {\n",
              "        vertical-align: middle;\n",
              "    }\n",
              "\n",
              "    .dataframe tbody tr th {\n",
              "        vertical-align: top;\n",
              "    }\n",
              "\n",
              "    .dataframe thead th {\n",
              "        text-align: right;\n",
              "    }\n",
              "</style>\n",
              "<table border=\"1\" class=\"dataframe\">\n",
              "  <thead>\n",
              "    <tr style=\"text-align: right;\">\n",
              "      <th></th>\n",
              "      <th>Date</th>\n",
              "      <th>Open</th>\n",
              "      <th>High</th>\n",
              "      <th>Low</th>\n",
              "      <th>Close</th>\n",
              "      <th>Adj Close</th>\n",
              "      <th>Volume</th>\n",
              "    </tr>\n",
              "  </thead>\n",
              "  <tbody>\n",
              "    <tr>\n",
              "      <th>0</th>\n",
              "      <td>2015-06-08</td>\n",
              "      <td>453.399994</td>\n",
              "      <td>455.000000</td>\n",
              "      <td>441.549988</td>\n",
              "      <td>442.725006</td>\n",
              "      <td>425.550629</td>\n",
              "      <td>4958862.0</td>\n",
              "    </tr>\n",
              "    <tr>\n",
              "      <th>1</th>\n",
              "      <td>2015-06-09</td>\n",
              "      <td>441.774994</td>\n",
              "      <td>445.325012</td>\n",
              "      <td>438.674988</td>\n",
              "      <td>441.850006</td>\n",
              "      <td>424.709564</td>\n",
              "      <td>4184606.0</td>\n",
              "    </tr>\n",
              "    <tr>\n",
              "      <th>2</th>\n",
              "      <td>2015-06-10</td>\n",
              "      <td>443.000000</td>\n",
              "      <td>454.950012</td>\n",
              "      <td>442.500000</td>\n",
              "      <td>452.899994</td>\n",
              "      <td>435.330933</td>\n",
              "      <td>6176034.0</td>\n",
              "    </tr>\n",
              "    <tr>\n",
              "      <th>3</th>\n",
              "      <td>2015-06-11</td>\n",
              "      <td>453.000000</td>\n",
              "      <td>454.750000</td>\n",
              "      <td>436.825012</td>\n",
              "      <td>438.575012</td>\n",
              "      <td>421.561676</td>\n",
              "      <td>6709574.0</td>\n",
              "    </tr>\n",
              "    <tr>\n",
              "      <th>4</th>\n",
              "      <td>2015-06-12</td>\n",
              "      <td>439.500000</td>\n",
              "      <td>446.350006</td>\n",
              "      <td>439.125000</td>\n",
              "      <td>444.924988</td>\n",
              "      <td>427.665283</td>\n",
              "      <td>9849112.0</td>\n",
              "    </tr>\n",
              "  </tbody>\n",
              "</table>\n",
              "</div>"
            ],
            "text/plain": [
              "         Date        Open        High  ...       Close   Adj Close     Volume\n",
              "0  2015-06-08  453.399994  455.000000  ...  442.725006  425.550629  4958862.0\n",
              "1  2015-06-09  441.774994  445.325012  ...  441.850006  424.709564  4184606.0\n",
              "2  2015-06-10  443.000000  454.950012  ...  452.899994  435.330933  6176034.0\n",
              "3  2015-06-11  453.000000  454.750000  ...  438.575012  421.561676  6709574.0\n",
              "4  2015-06-12  439.500000  446.350006  ...  444.924988  427.665283  9849112.0\n",
              "\n",
              "[5 rows x 7 columns]"
            ]
          },
          "metadata": {
            "tags": []
          },
          "execution_count": 11
        }
      ]
    },
    {
      "cell_type": "code",
      "metadata": {
        "colab": {
          "base_uri": "https://localhost:8080/",
          "height": 203
        },
        "id": "iZsxarCalyA5",
        "outputId": "6a7fd350-37eb-4bf1-d19d-8fd14fd3c060"
      },
      "source": [
        "df.tail()"
      ],
      "execution_count": 12,
      "outputs": [
        {
          "output_type": "execute_result",
          "data": {
            "text/html": [
              "<div>\n",
              "<style scoped>\n",
              "    .dataframe tbody tr th:only-of-type {\n",
              "        vertical-align: middle;\n",
              "    }\n",
              "\n",
              "    .dataframe tbody tr th {\n",
              "        vertical-align: top;\n",
              "    }\n",
              "\n",
              "    .dataframe thead th {\n",
              "        text-align: right;\n",
              "    }\n",
              "</style>\n",
              "<table border=\"1\" class=\"dataframe\">\n",
              "  <thead>\n",
              "    <tr style=\"text-align: right;\">\n",
              "      <th></th>\n",
              "      <th>Date</th>\n",
              "      <th>Open</th>\n",
              "      <th>High</th>\n",
              "      <th>Low</th>\n",
              "      <th>Close</th>\n",
              "      <th>Adj Close</th>\n",
              "      <th>Volume</th>\n",
              "    </tr>\n",
              "  </thead>\n",
              "  <tbody>\n",
              "    <tr>\n",
              "      <th>1224</th>\n",
              "      <td>2020-06-01</td>\n",
              "      <td>1480.0</td>\n",
              "      <td>1538.349976</td>\n",
              "      <td>1475.949951</td>\n",
              "      <td>1520.349976</td>\n",
              "      <td>1520.349976</td>\n",
              "      <td>18434012.0</td>\n",
              "    </tr>\n",
              "    <tr>\n",
              "      <th>1225</th>\n",
              "      <td>2020-06-02</td>\n",
              "      <td>1526.0</td>\n",
              "      <td>1540.000000</td>\n",
              "      <td>1520.800049</td>\n",
              "      <td>1535.699951</td>\n",
              "      <td>1535.699951</td>\n",
              "      <td>10224049.0</td>\n",
              "    </tr>\n",
              "    <tr>\n",
              "      <th>1226</th>\n",
              "      <td>2020-06-03</td>\n",
              "      <td>1545.0</td>\n",
              "      <td>1560.000000</td>\n",
              "      <td>1533.349976</td>\n",
              "      <td>1541.650024</td>\n",
              "      <td>1541.650024</td>\n",
              "      <td>11713461.0</td>\n",
              "    </tr>\n",
              "    <tr>\n",
              "      <th>1227</th>\n",
              "      <td>2020-06-04</td>\n",
              "      <td>1544.0</td>\n",
              "      <td>1589.500000</td>\n",
              "      <td>1541.000000</td>\n",
              "      <td>1579.800049</td>\n",
              "      <td>1579.800049</td>\n",
              "      <td>15784379.0</td>\n",
              "    </tr>\n",
              "    <tr>\n",
              "      <th>1228</th>\n",
              "      <td>2020-06-05</td>\n",
              "      <td>1595.0</td>\n",
              "      <td>1618.000000</td>\n",
              "      <td>1573.699951</td>\n",
              "      <td>1581.699951</td>\n",
              "      <td>1581.699951</td>\n",
              "      <td>15246965.0</td>\n",
              "    </tr>\n",
              "  </tbody>\n",
              "</table>\n",
              "</div>"
            ],
            "text/plain": [
              "            Date    Open         High  ...        Close    Adj Close      Volume\n",
              "1224  2020-06-01  1480.0  1538.349976  ...  1520.349976  1520.349976  18434012.0\n",
              "1225  2020-06-02  1526.0  1540.000000  ...  1535.699951  1535.699951  10224049.0\n",
              "1226  2020-06-03  1545.0  1560.000000  ...  1541.650024  1541.650024  11713461.0\n",
              "1227  2020-06-04  1544.0  1589.500000  ...  1579.800049  1579.800049  15784379.0\n",
              "1228  2020-06-05  1595.0  1618.000000  ...  1581.699951  1581.699951  15246965.0\n",
              "\n",
              "[5 rows x 7 columns]"
            ]
          },
          "metadata": {
            "tags": []
          },
          "execution_count": 12
        }
      ]
    },
    {
      "cell_type": "code",
      "metadata": {
        "colab": {
          "base_uri": "https://localhost:8080/"
        },
        "id": "RFvsN8z0l1pD",
        "outputId": "b22ed420-e569-45b0-ace0-ad3aba45767d"
      },
      "source": [
        "df1=df.reset_index()['Close']\n",
        "df1"
      ],
      "execution_count": 14,
      "outputs": [
        {
          "output_type": "execute_result",
          "data": {
            "text/plain": [
              "0        442.725006\n",
              "1        441.850006\n",
              "2        452.899994\n",
              "3        438.575012\n",
              "4        444.924988\n",
              "           ...     \n",
              "1223    1520.349976\n",
              "1224    1535.699951\n",
              "1225    1541.650024\n",
              "1226    1579.800049\n",
              "1227    1581.699951\n",
              "Name: Close, Length: 1228, dtype: float64"
            ]
          },
          "metadata": {
            "tags": []
          },
          "execution_count": 14
        }
      ]
    },
    {
      "cell_type": "code",
      "metadata": {
        "colab": {
          "base_uri": "https://localhost:8080/"
        },
        "id": "C06GK9qfl-Nk",
        "outputId": "637f903d-058d-44ce-dcc8-a8ddda9367df"
      },
      "source": [
        "df1.shape"
      ],
      "execution_count": 15,
      "outputs": [
        {
          "output_type": "execute_result",
          "data": {
            "text/plain": [
              "(1228,)"
            ]
          },
          "metadata": {
            "tags": []
          },
          "execution_count": 15
        }
      ]
    },
    {
      "cell_type": "code",
      "metadata": {
        "colab": {
          "base_uri": "https://localhost:8080/",
          "height": 282
        },
        "id": "2VH5O_O0mPK-",
        "outputId": "5233dd54-1367-497c-f00a-557cb882dc04"
      },
      "source": [
        "plt.plot(df1)"
      ],
      "execution_count": 16,
      "outputs": [
        {
          "output_type": "execute_result",
          "data": {
            "text/plain": [
              "[<matplotlib.lines.Line2D at 0x7ff9c3799410>]"
            ]
          },
          "metadata": {
            "tags": []
          },
          "execution_count": 16
        },
        {
          "output_type": "display_data",
          "data": {
            "image/png": "[encoded data removed]",
            "text/plain": [
              "<Figure size 432x288 with 1 Axes>"
            ]
          },
          "metadata": {
            "tags": [],
            "needs_background": "light"
          }
        }
      ]
    },
    {
      "cell_type": "code",
      "metadata": {
        "colab": {
          "base_uri": "https://localhost:8080/"
        },
        "id": "hRMa3XoEmVsN",
        "outputId": "a602e2dd-9408-478c-dc44-148e1265e4cd"
      },
      "source": [
        "df1"
      ],
      "execution_count": 17,
      "outputs": [
        {
          "output_type": "execute_result",
          "data": {
            "text/plain": [
              "0        442.725006\n",
              "1        441.850006\n",
              "2        452.899994\n",
              "3        438.575012\n",
              "4        444.924988\n",
              "           ...     \n",
              "1223    1520.349976\n",
              "1224    1535.699951\n",
              "1225    1541.650024\n",
              "1226    1579.800049\n",
              "1227    1581.699951\n",
              "Name: Close, Length: 1228, dtype: float64"
            ]
          },
          "metadata": {
            "tags": []
          },
          "execution_count": 17
        }
      ]
    },
    {
      "cell_type": "code",
      "metadata": {
        "id": "WRG3EBIMmfNv"
      },
      "source": [
        "scaler = MinMaxScaler(feature_range = (0,1))\n",
        "df1 = scaler.fit_transform(np.array(df1).reshape(-1,1))"
      ],
      "execution_count": 18,
      "outputs": []
    },
    {
      "cell_type": "code",
      "metadata": {
        "colab": {
          "base_uri": "https://localhost:8080/"
        },
        "id": "mPiQGvkGmraH",
        "outputId": "d77de386-3d00-41cd-8533-09f429a2a223"
      },
      "source": [
        "df1.shape"
      ],
      "execution_count": 19,
      "outputs": [
        {
          "output_type": "execute_result",
          "data": {
            "text/plain": [
              "(1228, 1)"
            ]
          },
          "metadata": {
            "tags": []
          },
          "execution_count": 19
        }
      ]
    },
    {
      "cell_type": "code",
      "metadata": {
        "colab": {
          "base_uri": "https://localhost:8080/"
        },
        "id": "r6Rk1EbPmvFa",
        "outputId": "45b991a9-a87d-4384-e204-877f3f574651"
      },
      "source": [
        "df1"
      ],
      "execution_count": 21,
      "outputs": [
        {
          "output_type": "execute_result",
          "data": {
            "text/plain": [
              "array([[0.02338571],\n",
              "       [0.0226536 ],\n",
              "       [0.0318991 ],\n",
              "       ...,\n",
              "       [0.94285362],\n",
              "       [0.97477365],\n",
              "       [0.97636329]])"
            ]
          },
          "metadata": {
            "tags": []
          },
          "execution_count": 21
        }
      ]
    },
    {
      "cell_type": "code",
      "metadata": {
        "id": "QODroLT2mzfT"
      },
      "source": [
        "training_size = int(len(df1) * 0.75)\n",
        "test_size = len(df1) - training_size\n",
        "train_data, test_data = df1[0:training_size,:], df1[training_size:len(df1),:1]"
      ],
      "execution_count": 22,
      "outputs": []
    },
    {
      "cell_type": "code",
      "metadata": {
        "id": "bpENnCkYnSY3"
      },
      "source": [
        "def create_dataset(dataset, time_step = 1):\n",
        "    dataX, dataY = [], []\n",
        "    for i in range(len(dataset) - time_step - 1):\n",
        "        a = dataset[i:(i+time_step), 0]\n",
        "        dataX.append(a)\n",
        "        dataY.append(dataset[i+time_step, 0])\n",
        "    return np.array(dataX), np.array(dataY)"
      ],
      "execution_count": 23,
      "outputs": []
    },
    {
      "cell_type": "code",
      "metadata": {
        "id": "BVnCL-qSnXmV"
      },
      "source": [
        "time_step = 100\n",
        "x_train, y_train = create_dataset(train_data, time_step)\n",
        "x_test, y_test = create_dataset(test_data, time_step)"
      ],
      "execution_count": 24,
      "outputs": []
    },
    {
      "cell_type": "code",
      "metadata": {
        "id": "gRzd3bTVnbi1"
      },
      "source": [
        "x_train = x_train.reshape(x_train.shape[0], x_train.shape[1], 1)\n",
        "x_test = x_test.reshape(x_test.shape[0], x_test.shape[1], 1)"
      ],
      "execution_count": 25,
      "outputs": []
    },
    {
      "cell_type": "code",
      "metadata": {
        "id": "2OAyPJj1nfQk"
      },
      "source": [
        "model = Sequential()\n",
        "model.add(LSTM(50, return_sequences = True, input_shape = (100,1)))\n",
        "model.add(LSTM(50, return_sequences = True))\n",
        "model.add(LSTM(50))\n",
        "model.add(Dense(1))\n",
        "model.compile(loss = 'mean_squared_error', optimizer = 'adam')"
      ],
      "execution_count": 26,
      "outputs": []
    },
    {
      "cell_type": "code",
      "metadata": {
        "colab": {
          "base_uri": "https://localhost:8080/"
        },
        "id": "Rhb5pwPznlMm",
        "outputId": "c908664b-a461-4204-c0de-449a49c4e476"
      },
      "source": [
        "model.summary()"
      ],
      "execution_count": 27,
      "outputs": [
        {
          "output_type": "stream",
          "text": [
            "Model: \"sequential\"\n",
            "_________________________________________________________________\n",
            "Layer (type)                 Output Shape              Param #   \n",
            "=================================================================\n",
            "lstm (LSTM)                  (None, 100, 50)           10400     \n",
            "_________________________________________________________________\n",
            "lstm_1 (LSTM)                (None, 100, 50)           20200     \n",
            "_________________________________________________________________\n",
            "lstm_2 (LSTM)                (None, 50)                20200     \n",
            "_________________________________________________________________\n",
            "dense (Dense)                (None, 1)                 51        \n",
            "=================================================================\n",
            "Total params: 50,851\n",
            "Trainable params: 50,851\n",
            "Non-trainable params: 0\n",
            "_________________________________________________________________\n"
          ],
          "name": "stdout"
        }
      ]
    },
    {
      "cell_type": "code",
      "metadata": {
        "colab": {
          "base_uri": "https://localhost:8080/"
        },
        "id": "Ktj2mBIUnpEb",
        "outputId": "2d06b74b-b457-476e-8740-88f2d4b512e0"
      },
      "source": [
        "model.fit(x_train, y_train, validation_data = (x_test, y_test), epochs = 100, batch_size = 64, verbose = 1)"
      ],
      "execution_count": 28,
      "outputs": [
        {
          "output_type": "stream",
          "text": [
            "Epoch 1/100\n",
            "13/13 [==============================] - 14s 434ms/step - loss: 0.0467 - val_loss: 0.0313\n",
            "Epoch 2/100\n",
            "13/13 [==============================] - 5s 363ms/step - loss: 0.0072 - val_loss: 0.0102\n",
            "Epoch 3/100\n",
            "13/13 [==============================] - 5s 361ms/step - loss: 0.0024 - val_loss: 0.0094\n",
            "Epoch 4/100\n",
            "13/13 [==============================] - 5s 365ms/step - loss: 0.0012 - val_loss: 0.0098\n",
            "Epoch 5/100\n",
            "13/13 [==============================] - 5s 367ms/step - loss: 0.0010 - val_loss: 0.0099\n",
            "Epoch 6/100\n",
            "13/13 [==============================] - 5s 365ms/step - loss: 9.6817e-04 - val_loss: 0.0097\n",
            "Epoch 7/100\n",
            "13/13 [==============================] - 5s 366ms/step - loss: 9.4542e-04 - val_loss: 0.0089\n",
            "Epoch 8/100\n",
            "13/13 [==============================] - 5s 367ms/step - loss: 9.2074e-04 - val_loss: 0.0090\n",
            "Epoch 9/100\n",
            "13/13 [==============================] - 5s 367ms/step - loss: 9.1566e-04 - val_loss: 0.0094\n",
            "Epoch 10/100\n",
            "13/13 [==============================] - 5s 368ms/step - loss: 8.7732e-04 - val_loss: 0.0082\n",
            "Epoch 11/100\n",
            "13/13 [==============================] - 5s 364ms/step - loss: 9.5884e-04 - val_loss: 0.0081\n",
            "Epoch 12/100\n",
            "13/13 [==============================] - 5s 369ms/step - loss: 9.0491e-04 - val_loss: 0.0080\n",
            "Epoch 13/100\n",
            "13/13 [==============================] - 5s 368ms/step - loss: 8.9094e-04 - val_loss: 0.0086\n",
            "Epoch 14/100\n",
            "13/13 [==============================] - 5s 364ms/step - loss: 9.1008e-04 - val_loss: 0.0087\n",
            "Epoch 15/100\n",
            "13/13 [==============================] - 5s 365ms/step - loss: 8.6383e-04 - val_loss: 0.0082\n",
            "Epoch 16/100\n",
            "13/13 [==============================] - 5s 366ms/step - loss: 8.2646e-04 - val_loss: 0.0080\n",
            "Epoch 17/100\n",
            "13/13 [==============================] - 5s 368ms/step - loss: 8.1592e-04 - val_loss: 0.0081\n",
            "Epoch 18/100\n",
            "13/13 [==============================] - 5s 365ms/step - loss: 8.0284e-04 - val_loss: 0.0070\n",
            "Epoch 19/100\n",
            "13/13 [==============================] - 5s 364ms/step - loss: 8.7322e-04 - val_loss: 0.0081\n",
            "Epoch 20/100\n",
            "13/13 [==============================] - 5s 366ms/step - loss: 8.2465e-04 - val_loss: 0.0079\n",
            "Epoch 21/100\n",
            "13/13 [==============================] - 5s 364ms/step - loss: 7.7920e-04 - val_loss: 0.0076\n",
            "Epoch 22/100\n",
            "13/13 [==============================] - 5s 366ms/step - loss: 7.6689e-04 - val_loss: 0.0069\n",
            "Epoch 23/100\n",
            "13/13 [==============================] - 5s 365ms/step - loss: 7.6517e-04 - val_loss: 0.0071\n",
            "Epoch 24/100\n",
            "13/13 [==============================] - 5s 364ms/step - loss: 7.6385e-04 - val_loss: 0.0062\n",
            "Epoch 25/100\n",
            "13/13 [==============================] - 5s 361ms/step - loss: 7.3255e-04 - val_loss: 0.0071\n",
            "Epoch 26/100\n",
            "13/13 [==============================] - 5s 366ms/step - loss: 7.3081e-04 - val_loss: 0.0058\n",
            "Epoch 27/100\n",
            "13/13 [==============================] - 5s 367ms/step - loss: 6.9610e-04 - val_loss: 0.0055\n",
            "Epoch 28/100\n",
            "13/13 [==============================] - 5s 364ms/step - loss: 7.5776e-04 - val_loss: 0.0061\n",
            "Epoch 29/100\n",
            "13/13 [==============================] - 5s 364ms/step - loss: 6.5688e-04 - val_loss: 0.0066\n",
            "Epoch 30/100\n",
            "13/13 [==============================] - 5s 366ms/step - loss: 6.8145e-04 - val_loss: 0.0052\n",
            "Epoch 31/100\n",
            "13/13 [==============================] - 5s 367ms/step - loss: 7.4171e-04 - val_loss: 0.0070\n",
            "Epoch 32/100\n",
            "13/13 [==============================] - 5s 361ms/step - loss: 7.4112e-04 - val_loss: 0.0054\n",
            "Epoch 33/100\n",
            "13/13 [==============================] - 5s 368ms/step - loss: 6.4005e-04 - val_loss: 0.0064\n",
            "Epoch 34/100\n",
            "13/13 [==============================] - 5s 365ms/step - loss: 6.2523e-04 - val_loss: 0.0053\n",
            "Epoch 35/100\n",
            "13/13 [==============================] - 5s 364ms/step - loss: 6.1231e-04 - val_loss: 0.0056\n",
            "Epoch 36/100\n",
            "13/13 [==============================] - 5s 364ms/step - loss: 6.3042e-04 - val_loss: 0.0056\n",
            "Epoch 37/100\n",
            "13/13 [==============================] - 5s 364ms/step - loss: 6.2274e-04 - val_loss: 0.0077\n",
            "Epoch 38/100\n",
            "13/13 [==============================] - 5s 362ms/step - loss: 6.2866e-04 - val_loss: 0.0045\n",
            "Epoch 39/100\n",
            "13/13 [==============================] - 5s 365ms/step - loss: 6.8517e-04 - val_loss: 0.0120\n",
            "Epoch 40/100\n",
            "13/13 [==============================] - 5s 363ms/step - loss: 7.8221e-04 - val_loss: 0.0040\n",
            "Epoch 41/100\n",
            "13/13 [==============================] - 5s 365ms/step - loss: 6.2960e-04 - val_loss: 0.0093\n",
            "Epoch 42/100\n",
            "13/13 [==============================] - 5s 368ms/step - loss: 7.2965e-04 - val_loss: 0.0043\n",
            "Epoch 43/100\n",
            "13/13 [==============================] - 5s 369ms/step - loss: 6.9068e-04 - val_loss: 0.0081\n",
            "Epoch 44/100\n",
            "13/13 [==============================] - 5s 364ms/step - loss: 6.2235e-04 - val_loss: 0.0064\n",
            "Epoch 45/100\n",
            "13/13 [==============================] - 5s 367ms/step - loss: 6.7488e-04 - val_loss: 0.0044\n",
            "Epoch 46/100\n",
            "13/13 [==============================] - 5s 364ms/step - loss: 6.1332e-04 - val_loss: 0.0095\n",
            "Epoch 47/100\n",
            "13/13 [==============================] - 5s 364ms/step - loss: 5.9777e-04 - val_loss: 0.0045\n",
            "Epoch 48/100\n",
            "13/13 [==============================] - 5s 367ms/step - loss: 5.5708e-04 - val_loss: 0.0056\n",
            "Epoch 49/100\n",
            "13/13 [==============================] - 5s 364ms/step - loss: 5.5855e-04 - val_loss: 0.0062\n",
            "Epoch 50/100\n",
            "13/13 [==============================] - 5s 368ms/step - loss: 5.3247e-04 - val_loss: 0.0045\n",
            "Epoch 51/100\n",
            "13/13 [==============================] - 5s 373ms/step - loss: 5.9617e-04 - val_loss: 0.0053\n",
            "Epoch 52/100\n",
            "13/13 [==============================] - 5s 370ms/step - loss: 5.6172e-04 - val_loss: 0.0041\n",
            "Epoch 53/100\n",
            "13/13 [==============================] - 5s 371ms/step - loss: 5.4505e-04 - val_loss: 0.0062\n",
            "Epoch 54/100\n",
            "13/13 [==============================] - 5s 371ms/step - loss: 5.2658e-04 - val_loss: 0.0045\n",
            "Epoch 55/100\n",
            "13/13 [==============================] - 5s 375ms/step - loss: 5.4206e-04 - val_loss: 0.0049\n",
            "Epoch 56/100\n",
            "13/13 [==============================] - 5s 372ms/step - loss: 5.1457e-04 - val_loss: 0.0044\n",
            "Epoch 57/100\n",
            "13/13 [==============================] - 5s 369ms/step - loss: 5.0617e-04 - val_loss: 0.0056\n",
            "Epoch 58/100\n",
            "13/13 [==============================] - 5s 372ms/step - loss: 5.2343e-04 - val_loss: 0.0048\n",
            "Epoch 59/100\n",
            "13/13 [==============================] - 5s 372ms/step - loss: 5.2297e-04 - val_loss: 0.0036\n",
            "Epoch 60/100\n",
            "13/13 [==============================] - 5s 369ms/step - loss: 5.1305e-04 - val_loss: 0.0057\n",
            "Epoch 61/100\n",
            "13/13 [==============================] - 5s 370ms/step - loss: 5.0436e-04 - val_loss: 0.0036\n",
            "Epoch 62/100\n",
            "13/13 [==============================] - 5s 372ms/step - loss: 5.2506e-04 - val_loss: 0.0036\n",
            "Epoch 63/100\n",
            "13/13 [==============================] - 5s 368ms/step - loss: 5.1290e-04 - val_loss: 0.0046\n",
            "Epoch 64/100\n",
            "13/13 [==============================] - 5s 371ms/step - loss: 5.1428e-04 - val_loss: 0.0045\n",
            "Epoch 65/100\n",
            "13/13 [==============================] - 5s 370ms/step - loss: 4.8063e-04 - val_loss: 0.0038\n",
            "Epoch 66/100\n",
            "13/13 [==============================] - 5s 371ms/step - loss: 4.7559e-04 - val_loss: 0.0036\n",
            "Epoch 67/100\n",
            "13/13 [==============================] - 5s 368ms/step - loss: 5.1434e-04 - val_loss: 0.0041\n",
            "Epoch 68/100\n",
            "13/13 [==============================] - 5s 376ms/step - loss: 4.6442e-04 - val_loss: 0.0036\n",
            "Epoch 69/100\n",
            "13/13 [==============================] - 5s 368ms/step - loss: 5.0202e-04 - val_loss: 0.0047\n",
            "Epoch 70/100\n",
            "13/13 [==============================] - 5s 372ms/step - loss: 4.8350e-04 - val_loss: 0.0037\n",
            "Epoch 71/100\n",
            "13/13 [==============================] - 5s 369ms/step - loss: 4.4830e-04 - val_loss: 0.0035\n",
            "Epoch 72/100\n",
            "13/13 [==============================] - 5s 373ms/step - loss: 4.4807e-04 - val_loss: 0.0037\n",
            "Epoch 73/100\n",
            "13/13 [==============================] - 5s 371ms/step - loss: 4.8095e-04 - val_loss: 0.0047\n",
            "Epoch 74/100\n",
            "13/13 [==============================] - 5s 371ms/step - loss: 4.5095e-04 - val_loss: 0.0032\n",
            "Epoch 75/100\n",
            "13/13 [==============================] - 5s 372ms/step - loss: 4.8731e-04 - val_loss: 0.0033\n",
            "Epoch 76/100\n",
            "13/13 [==============================] - 5s 372ms/step - loss: 5.2830e-04 - val_loss: 0.0070\n",
            "Epoch 77/100\n",
            "13/13 [==============================] - 5s 373ms/step - loss: 5.1155e-04 - val_loss: 0.0031\n",
            "Epoch 78/100\n",
            "13/13 [==============================] - 5s 371ms/step - loss: 4.6721e-04 - val_loss: 0.0032\n",
            "Epoch 79/100\n",
            "13/13 [==============================] - 5s 375ms/step - loss: 4.5717e-04 - val_loss: 0.0035\n",
            "Epoch 80/100\n",
            "13/13 [==============================] - 5s 374ms/step - loss: 4.1338e-04 - val_loss: 0.0035\n",
            "Epoch 81/100\n",
            "13/13 [==============================] - 5s 377ms/step - loss: 4.3013e-04 - val_loss: 0.0031\n",
            "Epoch 82/100\n",
            "13/13 [==============================] - 5s 372ms/step - loss: 4.2867e-04 - val_loss: 0.0030\n",
            "Epoch 83/100\n",
            "13/13 [==============================] - 5s 376ms/step - loss: 4.6999e-04 - val_loss: 0.0032\n",
            "Epoch 84/100\n",
            "13/13 [==============================] - 5s 373ms/step - loss: 4.0147e-04 - val_loss: 0.0033\n",
            "Epoch 85/100\n",
            "13/13 [==============================] - 5s 372ms/step - loss: 3.9551e-04 - val_loss: 0.0033\n",
            "Epoch 86/100\n",
            "13/13 [==============================] - 5s 369ms/step - loss: 3.8676e-04 - val_loss: 0.0028\n",
            "Epoch 87/100\n",
            "13/13 [==============================] - 5s 370ms/step - loss: 4.1714e-04 - val_loss: 0.0039\n",
            "Epoch 88/100\n",
            "13/13 [==============================] - 5s 373ms/step - loss: 3.7397e-04 - val_loss: 0.0032\n",
            "Epoch 89/100\n",
            "13/13 [==============================] - 5s 374ms/step - loss: 3.7481e-04 - val_loss: 0.0031\n",
            "Epoch 90/100\n",
            "13/13 [==============================] - 5s 375ms/step - loss: 3.8766e-04 - val_loss: 0.0037\n",
            "Epoch 91/100\n",
            "13/13 [==============================] - 5s 371ms/step - loss: 4.1280e-04 - val_loss: 0.0027\n",
            "Epoch 92/100\n",
            "13/13 [==============================] - 5s 370ms/step - loss: 3.6076e-04 - val_loss: 0.0033\n",
            "Epoch 93/100\n",
            "13/13 [==============================] - 5s 373ms/step - loss: 4.2011e-04 - val_loss: 0.0051\n",
            "Epoch 94/100\n",
            "13/13 [==============================] - 5s 365ms/step - loss: 3.5832e-04 - val_loss: 0.0026\n",
            "Epoch 95/100\n",
            "13/13 [==============================] - 5s 367ms/step - loss: 3.2796e-04 - val_loss: 0.0024\n",
            "Epoch 96/100\n",
            "13/13 [==============================] - 5s 367ms/step - loss: 3.5872e-04 - val_loss: 0.0035\n",
            "Epoch 97/100\n",
            "13/13 [==============================] - 5s 367ms/step - loss: 3.3439e-04 - val_loss: 0.0023\n",
            "Epoch 98/100\n",
            "13/13 [==============================] - 5s 369ms/step - loss: 3.1262e-04 - val_loss: 0.0024\n",
            "Epoch 99/100\n",
            "13/13 [==============================] - 5s 370ms/step - loss: 3.1325e-04 - val_loss: 0.0023\n",
            "Epoch 100/100\n",
            "13/13 [==============================] - 5s 369ms/step - loss: 3.0422e-04 - val_loss: 0.0025\n"
          ],
          "name": "stdout"
        },
        {
          "output_type": "execute_result",
          "data": {
            "text/plain": [
              "<tensorflow.python.keras.callbacks.History at 0x7ff9beea8410>"
            ]
          },
          "metadata": {
            "tags": []
          },
          "execution_count": 28
        }
      ]
    },
    {
      "cell_type": "code",
      "metadata": {
        "id": "I0NYBCEHnsdI"
      },
      "source": [
        "train_predict = model.predict(x_train)\n",
        "test_predict = model.predict(x_test)"
      ],
      "execution_count": 29,
      "outputs": []
    },
    {
      "cell_type": "code",
      "metadata": {
        "id": "1QdJFyGlpssu"
      },
      "source": [
        "train_predict = scaler.inverse_transform(train_predict)\n",
        "test_predict = scaler.inverse_transform(test_predict)"
      ],
      "execution_count": 30,
      "outputs": []
    },
    {
      "cell_type": "code",
      "metadata": {
        "colab": {
          "base_uri": "https://localhost:8080/"
        },
        "id": "nofmrQ-spu3l",
        "outputId": "b16e2478-defd-40c2-e8fa-c814617ea807"
      },
      "source": [
        "math.sqrt(mean_squared_error(y_train, train_predict))"
      ],
      "execution_count": 31,
      "outputs": [
        {
          "output_type": "execute_result",
          "data": {
            "text/plain": [
              "808.6349424904485"
            ]
          },
          "metadata": {
            "tags": []
          },
          "execution_count": 31
        }
      ]
    },
    {
      "cell_type": "code",
      "metadata": {
        "colab": {
          "base_uri": "https://localhost:8080/"
        },
        "id": "l1LKNUXSpx9R",
        "outputId": "02bd1737-3dcf-4742-b58a-a4ec95b81eae"
      },
      "source": [
        "math.sqrt(mean_squared_error(y_test, test_predict))"
      ],
      "execution_count": 32,
      "outputs": [
        {
          "output_type": "execute_result",
          "data": {
            "text/plain": [
              "1358.3716760393768"
            ]
          },
          "metadata": {
            "tags": []
          },
          "execution_count": 32
        }
      ]
    },
    {
      "cell_type": "code",
      "metadata": {
        "colab": {
          "base_uri": "https://localhost:8080/",
          "height": 265
        },
        "id": "5swdxqLHp134",
        "outputId": "1e8179ae-b92a-46f0-f153-60e57d60f5d4"
      },
      "source": [
        "\n",
        "look_back = 100\n",
        "trainPredictPlot = np.empty_like(df1)\n",
        "trainPredictPlot[:,:] = np.nan\n",
        "trainPredictPlot[look_back:len(train_predict) + look_back, :] = train_predict\n",
        "\n",
        "\n",
        "testPredictPlot = np.empty_like(df1)\n",
        "testPredictPlot[:,:] = np.nan\n",
        "testPredictPlot[len(train_predict) + (look_back * 2)+1:len(df1) - 1, :] = test_predict\n",
        "\n",
        "\n",
        "plt.plot(scaler.inverse_transform(df1))\n",
        "plt.plot(trainPredictPlot)\n",
        "plt.plot(testPredictPlot)\n",
        "plt.show()"
      ],
      "execution_count": 35,
      "outputs": [
        {
          "output_type": "display_data",
          "data": {
            "image/png": "[encoded data removed]",
            "text/plain": [
              "<Figure size 432x288 with 1 Axes>"
            ]
          },
          "metadata": {
            "tags": [],
            "needs_background": "light"
          }
        }
      ]
    },
    {
      "cell_type": "code",
      "metadata": {
        "colab": {
          "base_uri": "https://localhost:8080/"
        },
        "id": "JB03zgGWqA2F",
        "outputId": "53434b41-6d36-451c-aca7-a1cc442130da"
      },
      "source": [
        "len(test_data), x_test.shape"
      ],
      "execution_count": 36,
      "outputs": [
        {
          "output_type": "execute_result",
          "data": {
            "text/plain": [
              "(307, (206, 100, 1))"
            ]
          },
          "metadata": {
            "tags": []
          },
          "execution_count": 36
        }
      ]
    },
    {
      "cell_type": "code",
      "metadata": {
        "colab": {
          "base_uri": "https://localhost:8080/"
        },
        "id": "Udpwx6HLqMxC",
        "outputId": "8f7c29a6-cb17-435e-f002-eef4efcc309a"
      },
      "source": [
        "x_input = test_data[207:].reshape(1,-1)\n",
        "x_input.shape"
      ],
      "execution_count": 37,
      "outputs": [
        {
          "output_type": "execute_result",
          "data": {
            "text/plain": [
              "(1, 100)"
            ]
          },
          "metadata": {
            "tags": []
          },
          "execution_count": 37
        }
      ]
    },
    {
      "cell_type": "code",
      "metadata": {
        "id": "lA0PmeRoqOdR"
      },
      "source": [
        "temp_input = list(x_input)\n",
        "temp_input = temp_input[0].tolist()"
      ],
      "execution_count": 38,
      "outputs": []
    },
    {
      "cell_type": "code",
      "metadata": {
        "colab": {
          "base_uri": "https://localhost:8080/"
        },
        "id": "3jR7N_0LqRLy",
        "outputId": "1d17436e-1aa9-4d52-fd5f-4e62709253ee"
      },
      "source": [
        "lst_output=[]\n",
        "n_steps=100\n",
        "nextNumberOfDays = 30\n",
        "i=0\n",
        "\n",
        "while(i<nextNumberOfDays):\n",
        "    \n",
        "    if(len(temp_input)>100):\n",
        "        x_input=np.array(temp_input[1:])\n",
        "        print(\"{} day input {}\".format(i,x_input))\n",
        "        x_input=x_input.reshape(1,-1)\n",
        "        x_input = x_input.reshape((1, n_steps, 1))\n",
        "        yhat = model.predict(x_input, verbose=0)\n",
        "        print(\"{} day output {}\".format(i,yhat))\n",
        "        temp_input.extend(yhat[0].tolist())\n",
        "        temp_input=temp_input[1:]\n",
        "        lst_output.extend(yhat.tolist())\n",
        "        i=i+1\n",
        "    else:\n",
        "        x_input = x_input.reshape((1, n_steps,1))\n",
        "        yhat = model.predict(x_input, verbose=0)\n",
        "        print(yhat[0])\n",
        "        temp_input.extend(yhat[0].tolist())\n",
        "        print(len(temp_input))\n",
        "        lst_output.extend(yhat.tolist())\n",
        "        i=i+1\n",
        "    \n",
        "\n",
        "print(lst_output)"
      ],
      "execution_count": 41,
      "outputs": [
        {
          "output_type": "stream",
          "text": [
            "0 day input [0.6620997  0.65042781 0.67368794 0.64791772 0.61503546 0.63026342\n",
            " 0.67707661 0.69364326 0.6882465  0.79387957 0.7999875  0.83855924\n",
            " 0.84922714 0.84788844 0.84688434 0.86803608 0.84250843 0.86360165\n",
            " 0.86368529 0.90198096 0.9474387  0.95987202 0.87902192 0.90503482\n",
            " 0.85441462 0.87403524 0.85843081 0.83178201 0.85253205 0.85884916\n",
            " 0.85073323 0.844458   0.862447   0.88478678 0.87821873 0.92503192\n",
            " 0.9378752  0.94285362 0.97477365 0.97636329 0.92294759 0.92300206\n",
            " 0.91843873 0.91281784 0.90700966 0.90184027 0.8972618  0.89316237\n",
            " 0.88942462 0.88593906 0.88261062 0.87936276 0.87613803 0.87289691\n",
            " 0.86961603 0.86628264 0.862894   0.85945386 0.85596907 0.85244828\n",
            " 0.84890109 0.84533626 0.84176165 0.83818293 0.83460474 0.83103138\n",
            " 0.82746339 0.8239035  0.82035112 0.81680614 0.81326813 0.80973619\n",
            " 0.80620933 0.80268705 0.79916823 0.79565197 0.79213786 0.78862458\n",
            " 0.78511173 0.78159845 0.7780844  0.7745685  0.77105016 0.76752949\n",
            " 0.76400506 0.76047647 0.75694311 0.7534045  0.74985975 0.74630839\n",
            " 0.74274945 0.73918259 0.73560685 0.73202181 0.7284264  0.72482055\n",
            " 0.72120291 0.71757305 0.71387601 0.70963222]\n",
            "0 day output [[0.7054262]]\n",
            "1 day input [0.65042781 0.67368794 0.64791772 0.61503546 0.63026342 0.67707661\n",
            " 0.69364326 0.6882465  0.79387957 0.7999875  0.83855924 0.84922714\n",
            " 0.84788844 0.84688434 0.86803608 0.84250843 0.86360165 0.86368529\n",
            " 0.90198096 0.9474387  0.95987202 0.87902192 0.90503482 0.85441462\n",
            " 0.87403524 0.85843081 0.83178201 0.85253205 0.85884916 0.85073323\n",
            " 0.844458   0.862447   0.88478678 0.87821873 0.92503192 0.9378752\n",
            " 0.94285362 0.97477365 0.97636329 0.92294759 0.92300206 0.91843873\n",
            " 0.91281784 0.90700966 0.90184027 0.8972618  0.89316237 0.88942462\n",
            " 0.88593906 0.88261062 0.87936276 0.87613803 0.87289691 0.86961603\n",
            " 0.86628264 0.862894   0.85945386 0.85596907 0.85244828 0.84890109\n",
            " 0.84533626 0.84176165 0.83818293 0.83460474 0.83103138 0.82746339\n",
            " 0.8239035  0.82035112 0.81680614 0.81326813 0.80973619 0.80620933\n",
            " 0.80268705 0.79916823 0.79565197 0.79213786 0.78862458 0.78511173\n",
            " 0.78159845 0.7780844  0.7745685  0.77105016 0.76752949 0.76400506\n",
            " 0.76047647 0.75694311 0.7534045  0.74985975 0.74630839 0.74274945\n",
            " 0.73918259 0.73560685 0.73202181 0.7284264  0.72482055 0.72120291\n",
            " 0.71757305 0.71387601 0.70963222 0.70542622]\n",
            "1 day output [[0.7012753]]\n",
            "2 day input [0.67368794 0.64791772 0.61503546 0.63026342 0.67707661 0.69364326\n",
            " 0.6882465  0.79387957 0.7999875  0.83855924 0.84922714 0.84788844\n",
            " 0.84688434 0.86803608 0.84250843 0.86360165 0.86368529 0.90198096\n",
            " 0.9474387  0.95987202 0.87902192 0.90503482 0.85441462 0.87403524\n",
            " 0.85843081 0.83178201 0.85253205 0.85884916 0.85073323 0.844458\n",
            " 0.862447   0.88478678 0.87821873 0.92503192 0.9378752  0.94285362\n",
            " 0.97477365 0.97636329 0.92294759 0.92300206 0.91843873 0.91281784\n",
            " 0.90700966 0.90184027 0.8972618  0.89316237 0.88942462 0.88593906\n",
            " 0.88261062 0.87936276 0.87613803 0.87289691 0.86961603 0.86628264\n",
            " 0.862894   0.85945386 0.85596907 0.85244828 0.84890109 0.84533626\n",
            " 0.84176165 0.83818293 0.83460474 0.83103138 0.82746339 0.8239035\n",
            " 0.82035112 0.81680614 0.81326813 0.80973619 0.80620933 0.80268705\n",
            " 0.79916823 0.79565197 0.79213786 0.78862458 0.78511173 0.78159845\n",
            " 0.7780844  0.7745685  0.77105016 0.76752949 0.76400506 0.76047647\n",
            " 0.75694311 0.7534045  0.74985975 0.74630839 0.74274945 0.73918259\n",
            " 0.73560685 0.73202181 0.7284264  0.72482055 0.72120291 0.71757305\n",
            " 0.71387601 0.70963222 0.70542622 0.70127529]\n",
            "2 day output [[0.6971857]]\n",
            "3 day input [0.64791772 0.61503546 0.63026342 0.67707661 0.69364326 0.6882465\n",
            " 0.79387957 0.7999875  0.83855924 0.84922714 0.84788844 0.84688434\n",
            " 0.86803608 0.84250843 0.86360165 0.86368529 0.90198096 0.9474387\n",
            " 0.95987202 0.87902192 0.90503482 0.85441462 0.87403524 0.85843081\n",
            " 0.83178201 0.85253205 0.85884916 0.85073323 0.844458   0.862447\n",
            " 0.88478678 0.87821873 0.92503192 0.9378752  0.94285362 0.97477365\n",
            " 0.97636329 0.92294759 0.92300206 0.91843873 0.91281784 0.90700966\n",
            " 0.90184027 0.8972618  0.89316237 0.88942462 0.88593906 0.88261062\n",
            " 0.87936276 0.87613803 0.87289691 0.86961603 0.86628264 0.862894\n",
            " 0.85945386 0.85596907 0.85244828 0.84890109 0.84533626 0.84176165\n",
            " 0.83818293 0.83460474 0.83103138 0.82746339 0.8239035  0.82035112\n",
            " 0.81680614 0.81326813 0.80973619 0.80620933 0.80268705 0.79916823\n",
            " 0.79565197 0.79213786 0.78862458 0.78511173 0.78159845 0.7780844\n",
            " 0.7745685  0.77105016 0.76752949 0.76400506 0.76047647 0.75694311\n",
            " 0.7534045  0.74985975 0.74630839 0.74274945 0.73918259 0.73560685\n",
            " 0.73202181 0.7284264  0.72482055 0.72120291 0.71757305 0.71387601\n",
            " 0.70963222 0.70542622 0.70127529 0.6971857 ]\n",
            "3 day output [[0.6931687]]\n",
            "4 day input [0.61503546 0.63026342 0.67707661 0.69364326 0.6882465  0.79387957\n",
            " 0.7999875  0.83855924 0.84922714 0.84788844 0.84688434 0.86803608\n",
            " 0.84250843 0.86360165 0.86368529 0.90198096 0.9474387  0.95987202\n",
            " 0.87902192 0.90503482 0.85441462 0.87403524 0.85843081 0.83178201\n",
            " 0.85253205 0.85884916 0.85073323 0.844458   0.862447   0.88478678\n",
            " 0.87821873 0.92503192 0.9378752  0.94285362 0.97477365 0.97636329\n",
            " 0.92294759 0.92300206 0.91843873 0.91281784 0.90700966 0.90184027\n",
            " 0.8972618  0.89316237 0.88942462 0.88593906 0.88261062 0.87936276\n",
            " 0.87613803 0.87289691 0.86961603 0.86628264 0.862894   0.85945386\n",
            " 0.85596907 0.85244828 0.84890109 0.84533626 0.84176165 0.83818293\n",
            " 0.83460474 0.83103138 0.82746339 0.8239035  0.82035112 0.81680614\n",
            " 0.81326813 0.80973619 0.80620933 0.80268705 0.79916823 0.79565197\n",
            " 0.79213786 0.78862458 0.78511173 0.78159845 0.7780844  0.7745685\n",
            " 0.77105016 0.76752949 0.76400506 0.76047647 0.75694311 0.7534045\n",
            " 0.74985975 0.74630839 0.74274945 0.73918259 0.73560685 0.73202181\n",
            " 0.7284264  0.72482055 0.72120291 0.71757305 0.71387601 0.70963222\n",
            " 0.70542622 0.70127529 0.6971857  0.6931687 ]\n",
            "4 day output [[0.6892326]]\n",
            "5 day input [0.63026342 0.67707661 0.69364326 0.6882465  0.79387957 0.7999875\n",
            " 0.83855924 0.84922714 0.84788844 0.84688434 0.86803608 0.84250843\n",
            " 0.86360165 0.86368529 0.90198096 0.9474387  0.95987202 0.87902192\n",
            " 0.90503482 0.85441462 0.87403524 0.85843081 0.83178201 0.85253205\n",
            " 0.85884916 0.85073323 0.844458   0.862447   0.88478678 0.87821873\n",
            " 0.92503192 0.9378752  0.94285362 0.97477365 0.97636329 0.92294759\n",
            " 0.92300206 0.91843873 0.91281784 0.90700966 0.90184027 0.8972618\n",
            " 0.89316237 0.88942462 0.88593906 0.88261062 0.87936276 0.87613803\n",
            " 0.87289691 0.86961603 0.86628264 0.862894   0.85945386 0.85596907\n",
            " 0.85244828 0.84890109 0.84533626 0.84176165 0.83818293 0.83460474\n",
            " 0.83103138 0.82746339 0.8239035  0.82035112 0.81680614 0.81326813\n",
            " 0.80973619 0.80620933 0.80268705 0.79916823 0.79565197 0.79213786\n",
            " 0.78862458 0.78511173 0.78159845 0.7780844  0.7745685  0.77105016\n",
            " 0.76752949 0.76400506 0.76047647 0.75694311 0.7534045  0.74985975\n",
            " 0.74630839 0.74274945 0.73918259 0.73560685 0.73202181 0.7284264\n",
            " 0.72482055 0.72120291 0.71757305 0.71387601 0.70963222 0.70542622\n",
            " 0.70127529 0.6971857  0.6931687  0.68923259]\n",
            "5 day output [[0.6853791]]\n",
            "6 day input [0.67707661 0.69364326 0.6882465  0.79387957 0.7999875  0.83855924\n",
            " 0.84922714 0.84788844 0.84688434 0.86803608 0.84250843 0.86360165\n",
            " 0.86368529 0.90198096 0.9474387  0.95987202 0.87902192 0.90503482\n",
            " 0.85441462 0.87403524 0.85843081 0.83178201 0.85253205 0.85884916\n",
            " 0.85073323 0.844458   0.862447   0.88478678 0.87821873 0.92503192\n",
            " 0.9378752  0.94285362 0.97477365 0.97636329 0.92294759 0.92300206\n",
            " 0.91843873 0.91281784 0.90700966 0.90184027 0.8972618  0.89316237\n",
            " 0.88942462 0.88593906 0.88261062 0.87936276 0.87613803 0.87289691\n",
            " 0.86961603 0.86628264 0.862894   0.85945386 0.85596907 0.85244828\n",
            " 0.84890109 0.84533626 0.84176165 0.83818293 0.83460474 0.83103138\n",
            " 0.82746339 0.8239035  0.82035112 0.81680614 0.81326813 0.80973619\n",
            " 0.80620933 0.80268705 0.79916823 0.79565197 0.79213786 0.78862458\n",
            " 0.78511173 0.78159845 0.7780844  0.7745685  0.77105016 0.76752949\n",
            " 0.76400506 0.76047647 0.75694311 0.7534045  0.74985975 0.74630839\n",
            " 0.74274945 0.73918259 0.73560685 0.73202181 0.7284264  0.72482055\n",
            " 0.72120291 0.71757305 0.71387601 0.70963222 0.70542622 0.70127529\n",
            " 0.6971857  0.6931687  0.68923259 0.68537909]\n",
            "6 day output [[0.6816047]]\n",
            "7 day input [0.69364326 0.6882465  0.79387957 0.7999875  0.83855924 0.84922714\n",
            " 0.84788844 0.84688434 0.86803608 0.84250843 0.86360165 0.86368529\n",
            " 0.90198096 0.9474387  0.95987202 0.87902192 0.90503482 0.85441462\n",
            " 0.87403524 0.85843081 0.83178201 0.85253205 0.85884916 0.85073323\n",
            " 0.844458   0.862447   0.88478678 0.87821873 0.92503192 0.9378752\n",
            " 0.94285362 0.97477365 0.97636329 0.92294759 0.92300206 0.91843873\n",
            " 0.91281784 0.90700966 0.90184027 0.8972618  0.89316237 0.88942462\n",
            " 0.88593906 0.88261062 0.87936276 0.87613803 0.87289691 0.86961603\n",
            " 0.86628264 0.862894   0.85945386 0.85596907 0.85244828 0.84890109\n",
            " 0.84533626 0.84176165 0.83818293 0.83460474 0.83103138 0.82746339\n",
            " 0.8239035  0.82035112 0.81680614 0.81326813 0.80973619 0.80620933\n",
            " 0.80268705 0.79916823 0.79565197 0.79213786 0.78862458 0.78511173\n",
            " 0.78159845 0.7780844  0.7745685  0.77105016 0.76752949 0.76400506\n",
            " 0.76047647 0.75694311 0.7534045  0.74985975 0.74630839 0.74274945\n",
            " 0.73918259 0.73560685 0.73202181 0.7284264  0.72482055 0.72120291\n",
            " 0.71757305 0.71387601 0.70963222 0.70542622 0.70127529 0.6971857\n",
            " 0.6931687  0.68923259 0.68537909 0.68160468]\n",
            "7 day output [[0.67790204]]\n",
            "8 day input [0.6882465  0.79387957 0.7999875  0.83855924 0.84922714 0.84788844\n",
            " 0.84688434 0.86803608 0.84250843 0.86360165 0.86368529 0.90198096\n",
            " 0.9474387  0.95987202 0.87902192 0.90503482 0.85441462 0.87403524\n",
            " 0.85843081 0.83178201 0.85253205 0.85884916 0.85073323 0.844458\n",
            " 0.862447   0.88478678 0.87821873 0.92503192 0.9378752  0.94285362\n",
            " 0.97477365 0.97636329 0.92294759 0.92300206 0.91843873 0.91281784\n",
            " 0.90700966 0.90184027 0.8972618  0.89316237 0.88942462 0.88593906\n",
            " 0.88261062 0.87936276 0.87613803 0.87289691 0.86961603 0.86628264\n",
            " 0.862894   0.85945386 0.85596907 0.85244828 0.84890109 0.84533626\n",
            " 0.84176165 0.83818293 0.83460474 0.83103138 0.82746339 0.8239035\n",
            " 0.82035112 0.81680614 0.81326813 0.80973619 0.80620933 0.80268705\n",
            " 0.79916823 0.79565197 0.79213786 0.78862458 0.78511173 0.78159845\n",
            " 0.7780844  0.7745685  0.77105016 0.76752949 0.76400506 0.76047647\n",
            " 0.75694311 0.7534045  0.74985975 0.74630839 0.74274945 0.73918259\n",
            " 0.73560685 0.73202181 0.7284264  0.72482055 0.72120291 0.71757305\n",
            " 0.71387601 0.70963222 0.70542622 0.70127529 0.6971857  0.6931687\n",
            " 0.68923259 0.68537909 0.68160468 0.67790204]\n",
            "8 day output [[0.67426217]]\n",
            "9 day input [0.79387957 0.7999875  0.83855924 0.84922714 0.84788844 0.84688434\n",
            " 0.86803608 0.84250843 0.86360165 0.86368529 0.90198096 0.9474387\n",
            " 0.95987202 0.87902192 0.90503482 0.85441462 0.87403524 0.85843081\n",
            " 0.83178201 0.85253205 0.85884916 0.85073323 0.844458   0.862447\n",
            " 0.88478678 0.87821873 0.92503192 0.9378752  0.94285362 0.97477365\n",
            " 0.97636329 0.92294759 0.92300206 0.91843873 0.91281784 0.90700966\n",
            " 0.90184027 0.8972618  0.89316237 0.88942462 0.88593906 0.88261062\n",
            " 0.87936276 0.87613803 0.87289691 0.86961603 0.86628264 0.862894\n",
            " 0.85945386 0.85596907 0.85244828 0.84890109 0.84533626 0.84176165\n",
            " 0.83818293 0.83460474 0.83103138 0.82746339 0.8239035  0.82035112\n",
            " 0.81680614 0.81326813 0.80973619 0.80620933 0.80268705 0.79916823\n",
            " 0.79565197 0.79213786 0.78862458 0.78511173 0.78159845 0.7780844\n",
            " 0.7745685  0.77105016 0.76752949 0.76400506 0.76047647 0.75694311\n",
            " 0.7534045  0.74985975 0.74630839 0.74274945 0.73918259 0.73560685\n",
            " 0.73202181 0.7284264  0.72482055 0.72120291 0.71757305 0.71387601\n",
            " 0.70963222 0.70542622 0.70127529 0.6971857  0.6931687  0.68923259\n",
            " 0.68537909 0.68160468 0.67790204 0.67426217]\n",
            "9 day output [[0.67067426]]\n",
            "10 day input [0.7999875  0.83855924 0.84922714 0.84788844 0.84688434 0.86803608\n",
            " 0.84250843 0.86360165 0.86368529 0.90198096 0.9474387  0.95987202\n",
            " 0.87902192 0.90503482 0.85441462 0.87403524 0.85843081 0.83178201\n",
            " 0.85253205 0.85884916 0.85073323 0.844458   0.862447   0.88478678\n",
            " 0.87821873 0.92503192 0.9378752  0.94285362 0.97477365 0.97636329\n",
            " 0.92294759 0.92300206 0.91843873 0.91281784 0.90700966 0.90184027\n",
            " 0.8972618  0.89316237 0.88942462 0.88593906 0.88261062 0.87936276\n",
            " 0.87613803 0.87289691 0.86961603 0.86628264 0.862894   0.85945386\n",
            " 0.85596907 0.85244828 0.84890109 0.84533626 0.84176165 0.83818293\n",
            " 0.83460474 0.83103138 0.82746339 0.8239035  0.82035112 0.81680614\n",
            " 0.81326813 0.80973619 0.80620933 0.80268705 0.79916823 0.79565197\n",
            " 0.79213786 0.78862458 0.78511173 0.78159845 0.7780844  0.7745685\n",
            " 0.77105016 0.76752949 0.76400506 0.76047647 0.75694311 0.7534045\n",
            " 0.74985975 0.74630839 0.74274945 0.73918259 0.73560685 0.73202181\n",
            " 0.7284264  0.72482055 0.72120291 0.71757305 0.71387601 0.70963222\n",
            " 0.70542622 0.70127529 0.6971857  0.6931687  0.68923259 0.68537909\n",
            " 0.68160468 0.67790204 0.67426217 0.67067426]\n",
            "10 day output [[0.66712904]]\n",
            "11 day input [0.83855924 0.84922714 0.84788844 0.84688434 0.86803608 0.84250843\n",
            " 0.86360165 0.86368529 0.90198096 0.9474387  0.95987202 0.87902192\n",
            " 0.90503482 0.85441462 0.87403524 0.85843081 0.83178201 0.85253205\n",
            " 0.85884916 0.85073323 0.844458   0.862447   0.88478678 0.87821873\n",
            " 0.92503192 0.9378752  0.94285362 0.97477365 0.97636329 0.92294759\n",
            " 0.92300206 0.91843873 0.91281784 0.90700966 0.90184027 0.8972618\n",
            " 0.89316237 0.88942462 0.88593906 0.88261062 0.87936276 0.87613803\n",
            " 0.87289691 0.86961603 0.86628264 0.862894   0.85945386 0.85596907\n",
            " 0.85244828 0.84890109 0.84533626 0.84176165 0.83818293 0.83460474\n",
            " 0.83103138 0.82746339 0.8239035  0.82035112 0.81680614 0.81326813\n",
            " 0.80973619 0.80620933 0.80268705 0.79916823 0.79565197 0.79213786\n",
            " 0.78862458 0.78511173 0.78159845 0.7780844  0.7745685  0.77105016\n",
            " 0.76752949 0.76400506 0.76047647 0.75694311 0.7534045  0.74985975\n",
            " 0.74630839 0.74274945 0.73918259 0.73560685 0.73202181 0.7284264\n",
            " 0.72482055 0.72120291 0.71757305 0.71387601 0.70963222 0.70542622\n",
            " 0.70127529 0.6971857  0.6931687  0.68923259 0.68537909 0.68160468\n",
            " 0.67790204 0.67426217 0.67067426 0.66712904]\n",
            "11 day output [[0.6636171]]\n",
            "12 day input [0.84922714 0.84788844 0.84688434 0.86803608 0.84250843 0.86360165\n",
            " 0.86368529 0.90198096 0.9474387  0.95987202 0.87902192 0.90503482\n",
            " 0.85441462 0.87403524 0.85843081 0.83178201 0.85253205 0.85884916\n",
            " 0.85073323 0.844458   0.862447   0.88478678 0.87821873 0.92503192\n",
            " 0.9378752  0.94285362 0.97477365 0.97636329 0.92294759 0.92300206\n",
            " 0.91843873 0.91281784 0.90700966 0.90184027 0.8972618  0.89316237\n",
            " 0.88942462 0.88593906 0.88261062 0.87936276 0.87613803 0.87289691\n",
            " 0.86961603 0.86628264 0.862894   0.85945386 0.85596907 0.85244828\n",
            " 0.84890109 0.84533626 0.84176165 0.83818293 0.83460474 0.83103138\n",
            " 0.82746339 0.8239035  0.82035112 0.81680614 0.81326813 0.80973619\n",
            " 0.80620933 0.80268705 0.79916823 0.79565197 0.79213786 0.78862458\n",
            " 0.78511173 0.78159845 0.7780844  0.7745685  0.77105016 0.76752949\n",
            " 0.76400506 0.76047647 0.75694311 0.7534045  0.74985975 0.74630839\n",
            " 0.74274945 0.73918259 0.73560685 0.73202181 0.7284264  0.72482055\n",
            " 0.72120291 0.71757305 0.71387601 0.70963222 0.70542622 0.70127529\n",
            " 0.6971857  0.6931687  0.68923259 0.68537909 0.68160468 0.67790204\n",
            " 0.67426217 0.67067426 0.66712904 0.66361707]\n",
            "12 day output [[0.6601307]]\n",
            "13 day input [0.84788844 0.84688434 0.86803608 0.84250843 0.86360165 0.86368529\n",
            " 0.90198096 0.9474387  0.95987202 0.87902192 0.90503482 0.85441462\n",
            " 0.87403524 0.85843081 0.83178201 0.85253205 0.85884916 0.85073323\n",
            " 0.844458   0.862447   0.88478678 0.87821873 0.92503192 0.9378752\n",
            " 0.94285362 0.97477365 0.97636329 0.92294759 0.92300206 0.91843873\n",
            " 0.91281784 0.90700966 0.90184027 0.8972618  0.89316237 0.88942462\n",
            " 0.88593906 0.88261062 0.87936276 0.87613803 0.87289691 0.86961603\n",
            " 0.86628264 0.862894   0.85945386 0.85596907 0.85244828 0.84890109\n",
            " 0.84533626 0.84176165 0.83818293 0.83460474 0.83103138 0.82746339\n",
            " 0.8239035  0.82035112 0.81680614 0.81326813 0.80973619 0.80620933\n",
            " 0.80268705 0.79916823 0.79565197 0.79213786 0.78862458 0.78511173\n",
            " 0.78159845 0.7780844  0.7745685  0.77105016 0.76752949 0.76400506\n",
            " 0.76047647 0.75694311 0.7534045  0.74985975 0.74630839 0.74274945\n",
            " 0.73918259 0.73560685 0.73202181 0.7284264  0.72482055 0.72120291\n",
            " 0.71757305 0.71387601 0.70963222 0.70542622 0.70127529 0.6971857\n",
            " 0.6931687  0.68923259 0.68537909 0.68160468 0.67790204 0.67426217\n",
            " 0.67067426 0.66712904 0.66361707 0.66013068]\n",
            "13 day output [[0.65666395]]\n",
            "14 day input [0.84688434 0.86803608 0.84250843 0.86360165 0.86368529 0.90198096\n",
            " 0.9474387  0.95987202 0.87902192 0.90503482 0.85441462 0.87403524\n",
            " 0.85843081 0.83178201 0.85253205 0.85884916 0.85073323 0.844458\n",
            " 0.862447   0.88478678 0.87821873 0.92503192 0.9378752  0.94285362\n",
            " 0.97477365 0.97636329 0.92294759 0.92300206 0.91843873 0.91281784\n",
            " 0.90700966 0.90184027 0.8972618  0.89316237 0.88942462 0.88593906\n",
            " 0.88261062 0.87936276 0.87613803 0.87289691 0.86961603 0.86628264\n",
            " 0.862894   0.85945386 0.85596907 0.85244828 0.84890109 0.84533626\n",
            " 0.84176165 0.83818293 0.83460474 0.83103138 0.82746339 0.8239035\n",
            " 0.82035112 0.81680614 0.81326813 0.80973619 0.80620933 0.80268705\n",
            " 0.79916823 0.79565197 0.79213786 0.78862458 0.78511173 0.78159845\n",
            " 0.7780844  0.7745685  0.77105016 0.76752949 0.76400506 0.76047647\n",
            " 0.75694311 0.7534045  0.74985975 0.74630839 0.74274945 0.73918259\n",
            " 0.73560685 0.73202181 0.7284264  0.72482055 0.72120291 0.71757305\n",
            " 0.71387601 0.70963222 0.70542622 0.70127529 0.6971857  0.6931687\n",
            " 0.68923259 0.68537909 0.68160468 0.67790204 0.67426217 0.67067426\n",
            " 0.66712904 0.66361707 0.66013068 0.65666395]\n",
            "14 day output [[0.6532123]]\n",
            "15 day input [0.86803608 0.84250843 0.86360165 0.86368529 0.90198096 0.9474387\n",
            " 0.95987202 0.87902192 0.90503482 0.85441462 0.87403524 0.85843081\n",
            " 0.83178201 0.85253205 0.85884916 0.85073323 0.844458   0.862447\n",
            " 0.88478678 0.87821873 0.92503192 0.9378752  0.94285362 0.97477365\n",
            " 0.97636329 0.92294759 0.92300206 0.91843873 0.91281784 0.90700966\n",
            " 0.90184027 0.8972618  0.89316237 0.88942462 0.88593906 0.88261062\n",
            " 0.87936276 0.87613803 0.87289691 0.86961603 0.86628264 0.862894\n",
            " 0.85945386 0.85596907 0.85244828 0.84890109 0.84533626 0.84176165\n",
            " 0.83818293 0.83460474 0.83103138 0.82746339 0.8239035  0.82035112\n",
            " 0.81680614 0.81326813 0.80973619 0.80620933 0.80268705 0.79916823\n",
            " 0.79565197 0.79213786 0.78862458 0.78511173 0.78159845 0.7780844\n",
            " 0.7745685  0.77105016 0.76752949 0.76400506 0.76047647 0.75694311\n",
            " 0.7534045  0.74985975 0.74630839 0.74274945 0.73918259 0.73560685\n",
            " 0.73202181 0.7284264  0.72482055 0.72120291 0.71757305 0.71387601\n",
            " 0.70963222 0.70542622 0.70127529 0.6971857  0.6931687  0.68923259\n",
            " 0.68537909 0.68160468 0.67790204 0.67426217 0.67067426 0.66712904\n",
            " 0.66361707 0.66013068 0.65666395 0.65321231]\n",
            "15 day output [[0.6497727]]\n",
            "16 day input [0.84250843 0.86360165 0.86368529 0.90198096 0.9474387  0.95987202\n",
            " 0.87902192 0.90503482 0.85441462 0.87403524 0.85843081 0.83178201\n",
            " 0.85253205 0.85884916 0.85073323 0.844458   0.862447   0.88478678\n",
            " 0.87821873 0.92503192 0.9378752  0.94285362 0.97477365 0.97636329\n",
            " 0.92294759 0.92300206 0.91843873 0.91281784 0.90700966 0.90184027\n",
            " 0.8972618  0.89316237 0.88942462 0.88593906 0.88261062 0.87936276\n",
            " 0.87613803 0.87289691 0.86961603 0.86628264 0.862894   0.85945386\n",
            " 0.85596907 0.85244828 0.84890109 0.84533626 0.84176165 0.83818293\n",
            " 0.83460474 0.83103138 0.82746339 0.8239035  0.82035112 0.81680614\n",
            " 0.81326813 0.80973619 0.80620933 0.80268705 0.79916823 0.79565197\n",
            " 0.79213786 0.78862458 0.78511173 0.78159845 0.7780844  0.7745685\n",
            " 0.77105016 0.76752949 0.76400506 0.76047647 0.75694311 0.7534045\n",
            " 0.74985975 0.74630839 0.74274945 0.73918259 0.73560685 0.73202181\n",
            " 0.7284264  0.72482055 0.72120291 0.71757305 0.71387601 0.70963222\n",
            " 0.70542622 0.70127529 0.6971857  0.6931687  0.68923259 0.68537909\n",
            " 0.68160468 0.67790204 0.67426217 0.67067426 0.66712904 0.66361707\n",
            " 0.66013068 0.65666395 0.65321231 0.6497727 ]\n",
            "16 day output [[0.6463429]]\n",
            "17 day input [0.86360165 0.86368529 0.90198096 0.9474387  0.95987202 0.87902192\n",
            " 0.90503482 0.85441462 0.87403524 0.85843081 0.83178201 0.85253205\n",
            " 0.85884916 0.85073323 0.844458   0.862447   0.88478678 0.87821873\n",
            " 0.92503192 0.9378752  0.94285362 0.97477365 0.97636329 0.92294759\n",
            " 0.92300206 0.91843873 0.91281784 0.90700966 0.90184027 0.8972618\n",
            " 0.89316237 0.88942462 0.88593906 0.88261062 0.87936276 0.87613803\n",
            " 0.87289691 0.86961603 0.86628264 0.862894   0.85945386 0.85596907\n",
            " 0.85244828 0.84890109 0.84533626 0.84176165 0.83818293 0.83460474\n",
            " 0.83103138 0.82746339 0.8239035  0.82035112 0.81680614 0.81326813\n",
            " 0.80973619 0.80620933 0.80268705 0.79916823 0.79565197 0.79213786\n",
            " 0.78862458 0.78511173 0.78159845 0.7780844  0.7745685  0.77105016\n",
            " 0.76752949 0.76400506 0.76047647 0.75694311 0.7534045  0.74985975\n",
            " 0.74630839 0.74274945 0.73918259 0.73560685 0.73202181 0.7284264\n",
            " 0.72482055 0.72120291 0.71757305 0.71387601 0.70963222 0.70542622\n",
            " 0.70127529 0.6971857  0.6931687  0.68923259 0.68537909 0.68160468\n",
            " 0.67790204 0.67426217 0.67067426 0.66712904 0.66361707 0.66013068\n",
            " 0.65666395 0.65321231 0.6497727  0.64634287]\n",
            "17 day output [[0.6429219]]\n",
            "18 day input [0.86368529 0.90198096 0.9474387  0.95987202 0.87902192 0.90503482\n",
            " 0.85441462 0.87403524 0.85843081 0.83178201 0.85253205 0.85884916\n",
            " 0.85073323 0.844458   0.862447   0.88478678 0.87821873 0.92503192\n",
            " 0.9378752  0.94285362 0.97477365 0.97636329 0.92294759 0.92300206\n",
            " 0.91843873 0.91281784 0.90700966 0.90184027 0.8972618  0.89316237\n",
            " 0.88942462 0.88593906 0.88261062 0.87936276 0.87613803 0.87289691\n",
            " 0.86961603 0.86628264 0.862894   0.85945386 0.85596907 0.85244828\n",
            " 0.84890109 0.84533626 0.84176165 0.83818293 0.83460474 0.83103138\n",
            " 0.82746339 0.8239035  0.82035112 0.81680614 0.81326813 0.80973619\n",
            " 0.80620933 0.80268705 0.79916823 0.79565197 0.79213786 0.78862458\n",
            " 0.78511173 0.78159845 0.7780844  0.7745685  0.77105016 0.76752949\n",
            " 0.76400506 0.76047647 0.75694311 0.7534045  0.74985975 0.74630839\n",
            " 0.74274945 0.73918259 0.73560685 0.73202181 0.7284264  0.72482055\n",
            " 0.72120291 0.71757305 0.71387601 0.70963222 0.70542622 0.70127529\n",
            " 0.6971857  0.6931687  0.68923259 0.68537909 0.68160468 0.67790204\n",
            " 0.67426217 0.67067426 0.66712904 0.66361707 0.66013068 0.65666395\n",
            " 0.65321231 0.6497727  0.64634287 0.64292192]\n",
            "18 day output [[0.6395094]]\n",
            "19 day input [0.90198096 0.9474387  0.95987202 0.87902192 0.90503482 0.85441462\n",
            " 0.87403524 0.85843081 0.83178201 0.85253205 0.85884916 0.85073323\n",
            " 0.844458   0.862447   0.88478678 0.87821873 0.92503192 0.9378752\n",
            " 0.94285362 0.97477365 0.97636329 0.92294759 0.92300206 0.91843873\n",
            " 0.91281784 0.90700966 0.90184027 0.8972618  0.89316237 0.88942462\n",
            " 0.88593906 0.88261062 0.87936276 0.87613803 0.87289691 0.86961603\n",
            " 0.86628264 0.862894   0.85945386 0.85596907 0.85244828 0.84890109\n",
            " 0.84533626 0.84176165 0.83818293 0.83460474 0.83103138 0.82746339\n",
            " 0.8239035  0.82035112 0.81680614 0.81326813 0.80973619 0.80620933\n",
            " 0.80268705 0.79916823 0.79565197 0.79213786 0.78862458 0.78511173\n",
            " 0.78159845 0.7780844  0.7745685  0.77105016 0.76752949 0.76400506\n",
            " 0.76047647 0.75694311 0.7534045  0.74985975 0.74630839 0.74274945\n",
            " 0.73918259 0.73560685 0.73202181 0.7284264  0.72482055 0.72120291\n",
            " 0.71757305 0.71387601 0.70963222 0.70542622 0.70127529 0.6971857\n",
            " 0.6931687  0.68923259 0.68537909 0.68160468 0.67790204 0.67426217\n",
            " 0.67067426 0.66712904 0.66361707 0.66013068 0.65666395 0.65321231\n",
            " 0.6497727  0.64634287 0.64292192 0.63950938]\n",
            "19 day output [[0.63610554]]\n",
            "20 day input [0.9474387  0.95987202 0.87902192 0.90503482 0.85441462 0.87403524\n",
            " 0.85843081 0.83178201 0.85253205 0.85884916 0.85073323 0.844458\n",
            " 0.862447   0.88478678 0.87821873 0.92503192 0.9378752  0.94285362\n",
            " 0.97477365 0.97636329 0.92294759 0.92300206 0.91843873 0.91281784\n",
            " 0.90700966 0.90184027 0.8972618  0.89316237 0.88942462 0.88593906\n",
            " 0.88261062 0.87936276 0.87613803 0.87289691 0.86961603 0.86628264\n",
            " 0.862894   0.85945386 0.85596907 0.85244828 0.84890109 0.84533626\n",
            " 0.84176165 0.83818293 0.83460474 0.83103138 0.82746339 0.8239035\n",
            " 0.82035112 0.81680614 0.81326813 0.80973619 0.80620933 0.80268705\n",
            " 0.79916823 0.79565197 0.79213786 0.78862458 0.78511173 0.78159845\n",
            " 0.7780844  0.7745685  0.77105016 0.76752949 0.76400506 0.76047647\n",
            " 0.75694311 0.7534045  0.74985975 0.74630839 0.74274945 0.73918259\n",
            " 0.73560685 0.73202181 0.7284264  0.72482055 0.72120291 0.71757305\n",
            " 0.71387601 0.70963222 0.70542622 0.70127529 0.6971857  0.6931687\n",
            " 0.68923259 0.68537909 0.68160468 0.67790204 0.67426217 0.67067426\n",
            " 0.66712904 0.66361707 0.66013068 0.65666395 0.65321231 0.6497727\n",
            " 0.64634287 0.64292192 0.63950938 0.63610554]\n",
            "20 day output [[0.6327103]]\n",
            "21 day input [0.95987202 0.87902192 0.90503482 0.85441462 0.87403524 0.85843081\n",
            " 0.83178201 0.85253205 0.85884916 0.85073323 0.844458   0.862447\n",
            " 0.88478678 0.87821873 0.92503192 0.9378752  0.94285362 0.97477365\n",
            " 0.97636329 0.92294759 0.92300206 0.91843873 0.91281784 0.90700966\n",
            " 0.90184027 0.8972618  0.89316237 0.88942462 0.88593906 0.88261062\n",
            " 0.87936276 0.87613803 0.87289691 0.86961603 0.86628264 0.862894\n",
            " 0.85945386 0.85596907 0.85244828 0.84890109 0.84533626 0.84176165\n",
            " 0.83818293 0.83460474 0.83103138 0.82746339 0.8239035  0.82035112\n",
            " 0.81680614 0.81326813 0.80973619 0.80620933 0.80268705 0.79916823\n",
            " 0.79565197 0.79213786 0.78862458 0.78511173 0.78159845 0.7780844\n",
            " 0.7745685  0.77105016 0.76752949 0.76400506 0.76047647 0.75694311\n",
            " 0.7534045  0.74985975 0.74630839 0.74274945 0.73918259 0.73560685\n",
            " 0.73202181 0.7284264  0.72482055 0.72120291 0.71757305 0.71387601\n",
            " 0.70963222 0.70542622 0.70127529 0.6971857  0.6931687  0.68923259\n",
            " 0.68537909 0.68160468 0.67790204 0.67426217 0.67067426 0.66712904\n",
            " 0.66361707 0.66013068 0.65666395 0.65321231 0.6497727  0.64634287\n",
            " 0.64292192 0.63950938 0.63610554 0.63271028]\n",
            "21 day output [[0.62932384]]\n",
            "22 day input [0.87902192 0.90503482 0.85441462 0.87403524 0.85843081 0.83178201\n",
            " 0.85253205 0.85884916 0.85073323 0.844458   0.862447   0.88478678\n",
            " 0.87821873 0.92503192 0.9378752  0.94285362 0.97477365 0.97636329\n",
            " 0.92294759 0.92300206 0.91843873 0.91281784 0.90700966 0.90184027\n",
            " 0.8972618  0.89316237 0.88942462 0.88593906 0.88261062 0.87936276\n",
            " 0.87613803 0.87289691 0.86961603 0.86628264 0.862894   0.85945386\n",
            " 0.85596907 0.85244828 0.84890109 0.84533626 0.84176165 0.83818293\n",
            " 0.83460474 0.83103138 0.82746339 0.8239035  0.82035112 0.81680614\n",
            " 0.81326813 0.80973619 0.80620933 0.80268705 0.79916823 0.79565197\n",
            " 0.79213786 0.78862458 0.78511173 0.78159845 0.7780844  0.7745685\n",
            " 0.77105016 0.76752949 0.76400506 0.76047647 0.75694311 0.7534045\n",
            " 0.74985975 0.74630839 0.74274945 0.73918259 0.73560685 0.73202181\n",
            " 0.7284264  0.72482055 0.72120291 0.71757305 0.71387601 0.70963222\n",
            " 0.70542622 0.70127529 0.6971857  0.6931687  0.68923259 0.68537909\n",
            " 0.68160468 0.67790204 0.67426217 0.67067426 0.66712904 0.66361707\n",
            " 0.66013068 0.65666395 0.65321231 0.6497727  0.64634287 0.64292192\n",
            " 0.63950938 0.63610554 0.63271028 0.62932384]\n",
            "22 day output [[0.62594694]]\n",
            "23 day input [0.90503482 0.85441462 0.87403524 0.85843081 0.83178201 0.85253205\n",
            " 0.85884916 0.85073323 0.844458   0.862447   0.88478678 0.87821873\n",
            " 0.92503192 0.9378752  0.94285362 0.97477365 0.97636329 0.92294759\n",
            " 0.92300206 0.91843873 0.91281784 0.90700966 0.90184027 0.8972618\n",
            " 0.89316237 0.88942462 0.88593906 0.88261062 0.87936276 0.87613803\n",
            " 0.87289691 0.86961603 0.86628264 0.862894   0.85945386 0.85596907\n",
            " 0.85244828 0.84890109 0.84533626 0.84176165 0.83818293 0.83460474\n",
            " 0.83103138 0.82746339 0.8239035  0.82035112 0.81680614 0.81326813\n",
            " 0.80973619 0.80620933 0.80268705 0.79916823 0.79565197 0.79213786\n",
            " 0.78862458 0.78511173 0.78159845 0.7780844  0.7745685  0.77105016\n",
            " 0.76752949 0.76400506 0.76047647 0.75694311 0.7534045  0.74985975\n",
            " 0.74630839 0.74274945 0.73918259 0.73560685 0.73202181 0.7284264\n",
            " 0.72482055 0.72120291 0.71757305 0.71387601 0.70963222 0.70542622\n",
            " 0.70127529 0.6971857  0.6931687  0.68923259 0.68537909 0.68160468\n",
            " 0.67790204 0.67426217 0.67067426 0.66712904 0.66361707 0.66013068\n",
            " 0.65666395 0.65321231 0.6497727  0.64634287 0.64292192 0.63950938\n",
            " 0.63610554 0.63271028 0.62932384 0.62594694]\n",
            "23 day output [[0.62257963]]\n",
            "24 day input [0.85441462 0.87403524 0.85843081 0.83178201 0.85253205 0.85884916\n",
            " 0.85073323 0.844458   0.862447   0.88478678 0.87821873 0.92503192\n",
            " 0.9378752  0.94285362 0.97477365 0.97636329 0.92294759 0.92300206\n",
            " 0.91843873 0.91281784 0.90700966 0.90184027 0.8972618  0.89316237\n",
            " 0.88942462 0.88593906 0.88261062 0.87936276 0.87613803 0.87289691\n",
            " 0.86961603 0.86628264 0.862894   0.85945386 0.85596907 0.85244828\n",
            " 0.84890109 0.84533626 0.84176165 0.83818293 0.83460474 0.83103138\n",
            " 0.82746339 0.8239035  0.82035112 0.81680614 0.81326813 0.80973619\n",
            " 0.80620933 0.80268705 0.79916823 0.79565197 0.79213786 0.78862458\n",
            " 0.78511173 0.78159845 0.7780844  0.7745685  0.77105016 0.76752949\n",
            " 0.76400506 0.76047647 0.75694311 0.7534045  0.74985975 0.74630839\n",
            " 0.74274945 0.73918259 0.73560685 0.73202181 0.7284264  0.72482055\n",
            " 0.72120291 0.71757305 0.71387601 0.70963222 0.70542622 0.70127529\n",
            " 0.6971857  0.6931687  0.68923259 0.68537909 0.68160468 0.67790204\n",
            " 0.67426217 0.67067426 0.66712904 0.66361707 0.66013068 0.65666395\n",
            " 0.65321231 0.6497727  0.64634287 0.64292192 0.63950938 0.63610554\n",
            " 0.63271028 0.62932384 0.62594694 0.62257963]\n",
            "24 day output [[0.6192211]]\n",
            "25 day input [0.87403524 0.85843081 0.83178201 0.85253205 0.85884916 0.85073323\n",
            " 0.844458   0.862447   0.88478678 0.87821873 0.92503192 0.9378752\n",
            " 0.94285362 0.97477365 0.97636329 0.92294759 0.92300206 0.91843873\n",
            " 0.91281784 0.90700966 0.90184027 0.8972618  0.89316237 0.88942462\n",
            " 0.88593906 0.88261062 0.87936276 0.87613803 0.87289691 0.86961603\n",
            " 0.86628264 0.862894   0.85945386 0.85596907 0.85244828 0.84890109\n",
            " 0.84533626 0.84176165 0.83818293 0.83460474 0.83103138 0.82746339\n",
            " 0.8239035  0.82035112 0.81680614 0.81326813 0.80973619 0.80620933\n",
            " 0.80268705 0.79916823 0.79565197 0.79213786 0.78862458 0.78511173\n",
            " 0.78159845 0.7780844  0.7745685  0.77105016 0.76752949 0.76400506\n",
            " 0.76047647 0.75694311 0.7534045  0.74985975 0.74630839 0.74274945\n",
            " 0.73918259 0.73560685 0.73202181 0.7284264  0.72482055 0.72120291\n",
            " 0.71757305 0.71387601 0.70963222 0.70542622 0.70127529 0.6971857\n",
            " 0.6931687  0.68923259 0.68537909 0.68160468 0.67790204 0.67426217\n",
            " 0.67067426 0.66712904 0.66361707 0.66013068 0.65666395 0.65321231\n",
            " 0.6497727  0.64634287 0.64292192 0.63950938 0.63610554 0.63271028\n",
            " 0.62932384 0.62594694 0.62257963 0.61922109]\n",
            "25 day output [[0.61587155]]\n",
            "26 day input [0.85843081 0.83178201 0.85253205 0.85884916 0.85073323 0.844458\n",
            " 0.862447   0.88478678 0.87821873 0.92503192 0.9378752  0.94285362\n",
            " 0.97477365 0.97636329 0.92294759 0.92300206 0.91843873 0.91281784\n",
            " 0.90700966 0.90184027 0.8972618  0.89316237 0.88942462 0.88593906\n",
            " 0.88261062 0.87936276 0.87613803 0.87289691 0.86961603 0.86628264\n",
            " 0.862894   0.85945386 0.85596907 0.85244828 0.84890109 0.84533626\n",
            " 0.84176165 0.83818293 0.83460474 0.83103138 0.82746339 0.8239035\n",
            " 0.82035112 0.81680614 0.81326813 0.80973619 0.80620933 0.80268705\n",
            " 0.79916823 0.79565197 0.79213786 0.78862458 0.78511173 0.78159845\n",
            " 0.7780844  0.7745685  0.77105016 0.76752949 0.76400506 0.76047647\n",
            " 0.75694311 0.7534045  0.74985975 0.74630839 0.74274945 0.73918259\n",
            " 0.73560685 0.73202181 0.7284264  0.72482055 0.72120291 0.71757305\n",
            " 0.71387601 0.70963222 0.70542622 0.70127529 0.6971857  0.6931687\n",
            " 0.68923259 0.68537909 0.68160468 0.67790204 0.67426217 0.67067426\n",
            " 0.66712904 0.66361707 0.66013068 0.65666395 0.65321231 0.6497727\n",
            " 0.64634287 0.64292192 0.63950938 0.63610554 0.63271028 0.62932384\n",
            " 0.62594694 0.62257963 0.61922109 0.61587155]\n",
            "26 day output [[0.6125292]]\n",
            "27 day input [0.83178201 0.85253205 0.85884916 0.85073323 0.844458   0.862447\n",
            " 0.88478678 0.87821873 0.92503192 0.9378752  0.94285362 0.97477365\n",
            " 0.97636329 0.92294759 0.92300206 0.91843873 0.91281784 0.90700966\n",
            " 0.90184027 0.8972618  0.89316237 0.88942462 0.88593906 0.88261062\n",
            " 0.87936276 0.87613803 0.87289691 0.86961603 0.86628264 0.862894\n",
            " 0.85945386 0.85596907 0.85244828 0.84890109 0.84533626 0.84176165\n",
            " 0.83818293 0.83460474 0.83103138 0.82746339 0.8239035  0.82035112\n",
            " 0.81680614 0.81326813 0.80973619 0.80620933 0.80268705 0.79916823\n",
            " 0.79565197 0.79213786 0.78862458 0.78511173 0.78159845 0.7780844\n",
            " 0.7745685  0.77105016 0.76752949 0.76400506 0.76047647 0.75694311\n",
            " 0.7534045  0.74985975 0.74630839 0.74274945 0.73918259 0.73560685\n",
            " 0.73202181 0.7284264  0.72482055 0.72120291 0.71757305 0.71387601\n",
            " 0.70963222 0.70542622 0.70127529 0.6971857  0.6931687  0.68923259\n",
            " 0.68537909 0.68160468 0.67790204 0.67426217 0.67067426 0.66712904\n",
            " 0.66361707 0.66013068 0.65666395 0.65321231 0.6497727  0.64634287\n",
            " 0.64292192 0.63950938 0.63610554 0.63271028 0.62932384 0.62594694\n",
            " 0.62257963 0.61922109 0.61587155 0.61252922]\n",
            "27 day output [[0.60919297]]\n",
            "28 day input [0.85253205 0.85884916 0.85073323 0.844458   0.862447   0.88478678\n",
            " 0.87821873 0.92503192 0.9378752  0.94285362 0.97477365 0.97636329\n",
            " 0.92294759 0.92300206 0.91843873 0.91281784 0.90700966 0.90184027\n",
            " 0.8972618  0.89316237 0.88942462 0.88593906 0.88261062 0.87936276\n",
            " 0.87613803 0.87289691 0.86961603 0.86628264 0.862894   0.85945386\n",
            " 0.85596907 0.85244828 0.84890109 0.84533626 0.84176165 0.83818293\n",
            " 0.83460474 0.83103138 0.82746339 0.8239035  0.82035112 0.81680614\n",
            " 0.81326813 0.80973619 0.80620933 0.80268705 0.79916823 0.79565197\n",
            " 0.79213786 0.78862458 0.78511173 0.78159845 0.7780844  0.7745685\n",
            " 0.77105016 0.76752949 0.76400506 0.76047647 0.75694311 0.7534045\n",
            " 0.74985975 0.74630839 0.74274945 0.73918259 0.73560685 0.73202181\n",
            " 0.7284264  0.72482055 0.72120291 0.71757305 0.71387601 0.70963222\n",
            " 0.70542622 0.70127529 0.6971857  0.6931687  0.68923259 0.68537909\n",
            " 0.68160468 0.67790204 0.67426217 0.67067426 0.66712904 0.66361707\n",
            " 0.66013068 0.65666395 0.65321231 0.6497727  0.64634287 0.64292192\n",
            " 0.63950938 0.63610554 0.63271028 0.62932384 0.62594694 0.62257963\n",
            " 0.61922109 0.61587155 0.61252922 0.60919297]\n",
            "28 day output [[0.60586035]]\n",
            "29 day input [0.85884916 0.85073323 0.844458   0.862447   0.88478678 0.87821873\n",
            " 0.92503192 0.9378752  0.94285362 0.97477365 0.97636329 0.92294759\n",
            " 0.92300206 0.91843873 0.91281784 0.90700966 0.90184027 0.8972618\n",
            " 0.89316237 0.88942462 0.88593906 0.88261062 0.87936276 0.87613803\n",
            " 0.87289691 0.86961603 0.86628264 0.862894   0.85945386 0.85596907\n",
            " 0.85244828 0.84890109 0.84533626 0.84176165 0.83818293 0.83460474\n",
            " 0.83103138 0.82746339 0.8239035  0.82035112 0.81680614 0.81326813\n",
            " 0.80973619 0.80620933 0.80268705 0.79916823 0.79565197 0.79213786\n",
            " 0.78862458 0.78511173 0.78159845 0.7780844  0.7745685  0.77105016\n",
            " 0.76752949 0.76400506 0.76047647 0.75694311 0.7534045  0.74985975\n",
            " 0.74630839 0.74274945 0.73918259 0.73560685 0.73202181 0.7284264\n",
            " 0.72482055 0.72120291 0.71757305 0.71387601 0.70963222 0.70542622\n",
            " 0.70127529 0.6971857  0.6931687  0.68923259 0.68537909 0.68160468\n",
            " 0.67790204 0.67426217 0.67067426 0.66712904 0.66361707 0.66013068\n",
            " 0.65666395 0.65321231 0.6497727  0.64634287 0.64292192 0.63950938\n",
            " 0.63610554 0.63271028 0.62932384 0.62594694 0.62257963 0.61922109\n",
            " 0.61587155 0.61252922 0.60919297 0.60586035]\n",
            "29 day output [[0.6025272]]\n",
            "[[0.7054262161254883], [0.7012752890586853], [0.6971856951713562], [0.6931686997413635], [0.689232587814331], [0.6853790879249573], [0.6816046833992004], [0.6779020428657532], [0.6742621660232544], [0.6706742644309998], [0.6671290397644043], [0.6636170744895935], [0.6601306796073914], [0.6566639542579651], [0.653212308883667], [0.6497727036476135], [0.6463428735733032], [0.6429219245910645], [0.639509379863739], [0.6361055374145508], [0.6327102780342102], [0.6293238401412964], [0.6259469389915466], [0.6225796341896057], [0.6192210912704468], [0.6158715486526489], [0.6125292181968689], [0.609192967414856], [0.6058603525161743], [0.6025272011756897]]\n"
          ],
          "name": "stdout"
        }
      ]
    },
    {
      "cell_type": "code",
      "metadata": {
        "colab": {
          "base_uri": "https://localhost:8080/"
        },
        "id": "H0E_m2VXqdT0",
        "outputId": "32cf5420-9bd7-4bdf-c366-0664b3d84e6d"
      },
      "source": [
        "\n",
        "from numpy import array\n",
        "\n",
        "lst_output=[]\n",
        "n_steps=100\n",
        "i=0\n",
        "while(i<30):\n",
        "    \n",
        "    if(len(temp_input)>100):\n",
        "        #print(temp_input)\n",
        "        x_input=np.array(temp_input[1:])\n",
        "        print(\"{} day input {}\".format(i,x_input))\n",
        "        x_input=x_input.reshape(1,-1)\n",
        "        x_input = x_input.reshape((1, n_steps, 1))\n",
        "        #print(x_input)\n",
        "        yhat = model.predict(x_input, verbose=0)\n",
        "        print(\"{} day output {}\".format(i,yhat))\n",
        "        temp_input.extend(yhat[0].tolist())\n",
        "        temp_input=temp_input[1:]\n",
        "        #print(temp_input)\n",
        "        lst_output.extend(yhat.tolist())\n",
        "        i=i+1\n",
        "    else:\n",
        "        x_input = x_input.reshape((1, n_steps,1))\n",
        "        yhat = model.predict(x_input, verbose=0)\n",
        "        print(yhat[0])\n",
        "        temp_input.extend(yhat[0].tolist())\n",
        "        print(len(temp_input))\n",
        "        lst_output.extend(yhat.tolist())\n",
        "        i=i+1\n",
        "    \n",
        "\n",
        "print(lst_output)"
      ],
      "execution_count": 42,
      "outputs": [
        {
          "output_type": "stream",
          "text": [
            "0 day input [0.85073323 0.844458   0.862447   0.88478678 0.87821873 0.92503192\n",
            " 0.9378752  0.94285362 0.97477365 0.97636329 0.92294759 0.92300206\n",
            " 0.91843873 0.91281784 0.90700966 0.90184027 0.8972618  0.89316237\n",
            " 0.88942462 0.88593906 0.88261062 0.87936276 0.87613803 0.87289691\n",
            " 0.86961603 0.86628264 0.862894   0.85945386 0.85596907 0.85244828\n",
            " 0.84890109 0.84533626 0.84176165 0.83818293 0.83460474 0.83103138\n",
            " 0.82746339 0.8239035  0.82035112 0.81680614 0.81326813 0.80973619\n",
            " 0.80620933 0.80268705 0.79916823 0.79565197 0.79213786 0.78862458\n",
            " 0.78511173 0.78159845 0.7780844  0.7745685  0.77105016 0.76752949\n",
            " 0.76400506 0.76047647 0.75694311 0.7534045  0.74985975 0.74630839\n",
            " 0.74274945 0.73918259 0.73560685 0.73202181 0.7284264  0.72482055\n",
            " 0.72120291 0.71757305 0.71387601 0.70963222 0.70542622 0.70127529\n",
            " 0.6971857  0.6931687  0.68923259 0.68537909 0.68160468 0.67790204\n",
            " 0.67426217 0.67067426 0.66712904 0.66361707 0.66013068 0.65666395\n",
            " 0.65321231 0.6497727  0.64634287 0.64292192 0.63950938 0.63610554\n",
            " 0.63271028 0.62932384 0.62594694 0.62257963 0.61922109 0.61587155\n",
            " 0.61252922 0.60919297 0.60586035 0.6025272 ]\n",
            "0 day output [[0.5991881]]\n",
            "1 day input [0.844458   0.862447   0.88478678 0.87821873 0.92503192 0.9378752\n",
            " 0.94285362 0.97477365 0.97636329 0.92294759 0.92300206 0.91843873\n",
            " 0.91281784 0.90700966 0.90184027 0.8972618  0.89316237 0.88942462\n",
            " 0.88593906 0.88261062 0.87936276 0.87613803 0.87289691 0.86961603\n",
            " 0.86628264 0.862894   0.85945386 0.85596907 0.85244828 0.84890109\n",
            " 0.84533626 0.84176165 0.83818293 0.83460474 0.83103138 0.82746339\n",
            " 0.8239035  0.82035112 0.81680614 0.81326813 0.80973619 0.80620933\n",
            " 0.80268705 0.79916823 0.79565197 0.79213786 0.78862458 0.78511173\n",
            " 0.78159845 0.7780844  0.7745685  0.77105016 0.76752949 0.76400506\n",
            " 0.76047647 0.75694311 0.7534045  0.74985975 0.74630839 0.74274945\n",
            " 0.73918259 0.73560685 0.73202181 0.7284264  0.72482055 0.72120291\n",
            " 0.71757305 0.71387601 0.70963222 0.70542622 0.70127529 0.6971857\n",
            " 0.6931687  0.68923259 0.68537909 0.68160468 0.67790204 0.67426217\n",
            " 0.67067426 0.66712904 0.66361707 0.66013068 0.65666395 0.65321231\n",
            " 0.6497727  0.64634287 0.64292192 0.63950938 0.63610554 0.63271028\n",
            " 0.62932384 0.62594694 0.62257963 0.61922109 0.61587155 0.61252922\n",
            " 0.60919297 0.60586035 0.6025272  0.59918809]\n",
            "1 day output [[0.5958347]]\n",
            "2 day input [0.862447   0.88478678 0.87821873 0.92503192 0.9378752  0.94285362\n",
            " 0.97477365 0.97636329 0.92294759 0.92300206 0.91843873 0.91281784\n",
            " 0.90700966 0.90184027 0.8972618  0.89316237 0.88942462 0.88593906\n",
            " 0.88261062 0.87936276 0.87613803 0.87289691 0.86961603 0.86628264\n",
            " 0.862894   0.85945386 0.85596907 0.85244828 0.84890109 0.84533626\n",
            " 0.84176165 0.83818293 0.83460474 0.83103138 0.82746339 0.8239035\n",
            " 0.82035112 0.81680614 0.81326813 0.80973619 0.80620933 0.80268705\n",
            " 0.79916823 0.79565197 0.79213786 0.78862458 0.78511173 0.78159845\n",
            " 0.7780844  0.7745685  0.77105016 0.76752949 0.76400506 0.76047647\n",
            " 0.75694311 0.7534045  0.74985975 0.74630839 0.74274945 0.73918259\n",
            " 0.73560685 0.73202181 0.7284264  0.72482055 0.72120291 0.71757305\n",
            " 0.71387601 0.70963222 0.70542622 0.70127529 0.6971857  0.6931687\n",
            " 0.68923259 0.68537909 0.68160468 0.67790204 0.67426217 0.67067426\n",
            " 0.66712904 0.66361707 0.66013068 0.65666395 0.65321231 0.6497727\n",
            " 0.64634287 0.64292192 0.63950938 0.63610554 0.63271028 0.62932384\n",
            " 0.62594694 0.62257963 0.61922109 0.61587155 0.61252922 0.60919297\n",
            " 0.60586035 0.6025272  0.59918809 0.59583467]\n",
            "2 day output [[0.5924552]]\n",
            "3 day input [0.88478678 0.87821873 0.92503192 0.9378752  0.94285362 0.97477365\n",
            " 0.97636329 0.92294759 0.92300206 0.91843873 0.91281784 0.90700966\n",
            " 0.90184027 0.8972618  0.89316237 0.88942462 0.88593906 0.88261062\n",
            " 0.87936276 0.87613803 0.87289691 0.86961603 0.86628264 0.862894\n",
            " 0.85945386 0.85596907 0.85244828 0.84890109 0.84533626 0.84176165\n",
            " 0.83818293 0.83460474 0.83103138 0.82746339 0.8239035  0.82035112\n",
            " 0.81680614 0.81326813 0.80973619 0.80620933 0.80268705 0.79916823\n",
            " 0.79565197 0.79213786 0.78862458 0.78511173 0.78159845 0.7780844\n",
            " 0.7745685  0.77105016 0.76752949 0.76400506 0.76047647 0.75694311\n",
            " 0.7534045  0.74985975 0.74630839 0.74274945 0.73918259 0.73560685\n",
            " 0.73202181 0.7284264  0.72482055 0.72120291 0.71757305 0.71387601\n",
            " 0.70963222 0.70542622 0.70127529 0.6971857  0.6931687  0.68923259\n",
            " 0.68537909 0.68160468 0.67790204 0.67426217 0.67067426 0.66712904\n",
            " 0.66361707 0.66013068 0.65666395 0.65321231 0.6497727  0.64634287\n",
            " 0.64292192 0.63950938 0.63610554 0.63271028 0.62932384 0.62594694\n",
            " 0.62257963 0.61922109 0.61587155 0.61252922 0.60919297 0.60586035\n",
            " 0.6025272  0.59918809 0.59583467 0.59245521]\n",
            "3 day output [[0.5890314]]\n",
            "4 day input [0.87821873 0.92503192 0.9378752  0.94285362 0.97477365 0.97636329\n",
            " 0.92294759 0.92300206 0.91843873 0.91281784 0.90700966 0.90184027\n",
            " 0.8972618  0.89316237 0.88942462 0.88593906 0.88261062 0.87936276\n",
            " 0.87613803 0.87289691 0.86961603 0.86628264 0.862894   0.85945386\n",
            " 0.85596907 0.85244828 0.84890109 0.84533626 0.84176165 0.83818293\n",
            " 0.83460474 0.83103138 0.82746339 0.8239035  0.82035112 0.81680614\n",
            " 0.81326813 0.80973619 0.80620933 0.80268705 0.79916823 0.79565197\n",
            " 0.79213786 0.78862458 0.78511173 0.78159845 0.7780844  0.7745685\n",
            " 0.77105016 0.76752949 0.76400506 0.76047647 0.75694311 0.7534045\n",
            " 0.74985975 0.74630839 0.74274945 0.73918259 0.73560685 0.73202181\n",
            " 0.7284264  0.72482055 0.72120291 0.71757305 0.71387601 0.70963222\n",
            " 0.70542622 0.70127529 0.6971857  0.6931687  0.68923259 0.68537909\n",
            " 0.68160468 0.67790204 0.67426217 0.67067426 0.66712904 0.66361707\n",
            " 0.66013068 0.65666395 0.65321231 0.6497727  0.64634287 0.64292192\n",
            " 0.63950938 0.63610554 0.63271028 0.62932384 0.62594694 0.62257963\n",
            " 0.61922109 0.61587155 0.61252922 0.60919297 0.60586035 0.6025272\n",
            " 0.59918809 0.59583467 0.59245521 0.5890314 ]\n",
            "4 day output [[0.5855372]]\n",
            "5 day input [0.92503192 0.9378752  0.94285362 0.97477365 0.97636329 0.92294759\n",
            " 0.92300206 0.91843873 0.91281784 0.90700966 0.90184027 0.8972618\n",
            " 0.89316237 0.88942462 0.88593906 0.88261062 0.87936276 0.87613803\n",
            " 0.87289691 0.86961603 0.86628264 0.862894   0.85945386 0.85596907\n",
            " 0.85244828 0.84890109 0.84533626 0.84176165 0.83818293 0.83460474\n",
            " 0.83103138 0.82746339 0.8239035  0.82035112 0.81680614 0.81326813\n",
            " 0.80973619 0.80620933 0.80268705 0.79916823 0.79565197 0.79213786\n",
            " 0.78862458 0.78511173 0.78159845 0.7780844  0.7745685  0.77105016\n",
            " 0.76752949 0.76400506 0.76047647 0.75694311 0.7534045  0.74985975\n",
            " 0.74630839 0.74274945 0.73918259 0.73560685 0.73202181 0.7284264\n",
            " 0.72482055 0.72120291 0.71757305 0.71387601 0.70963222 0.70542622\n",
            " 0.70127529 0.6971857  0.6931687  0.68923259 0.68537909 0.68160468\n",
            " 0.67790204 0.67426217 0.67067426 0.66712904 0.66361707 0.66013068\n",
            " 0.65666395 0.65321231 0.6497727  0.64634287 0.64292192 0.63950938\n",
            " 0.63610554 0.63271028 0.62932384 0.62594694 0.62257963 0.61922109\n",
            " 0.61587155 0.61252922 0.60919297 0.60586035 0.6025272  0.59918809\n",
            " 0.59583467 0.59245521 0.5890314  0.5855372 ]\n",
            "5 day output [[0.5819371]]\n",
            "6 day input [0.9378752  0.94285362 0.97477365 0.97636329 0.92294759 0.92300206\n",
            " 0.91843873 0.91281784 0.90700966 0.90184027 0.8972618  0.89316237\n",
            " 0.88942462 0.88593906 0.88261062 0.87936276 0.87613803 0.87289691\n",
            " 0.86961603 0.86628264 0.862894   0.85945386 0.85596907 0.85244828\n",
            " 0.84890109 0.84533626 0.84176165 0.83818293 0.83460474 0.83103138\n",
            " 0.82746339 0.8239035  0.82035112 0.81680614 0.81326813 0.80973619\n",
            " 0.80620933 0.80268705 0.79916823 0.79565197 0.79213786 0.78862458\n",
            " 0.78511173 0.78159845 0.7780844  0.7745685  0.77105016 0.76752949\n",
            " 0.76400506 0.76047647 0.75694311 0.7534045  0.74985975 0.74630839\n",
            " 0.74274945 0.73918259 0.73560685 0.73202181 0.7284264  0.72482055\n",
            " 0.72120291 0.71757305 0.71387601 0.70963222 0.70542622 0.70127529\n",
            " 0.6971857  0.6931687  0.68923259 0.68537909 0.68160468 0.67790204\n",
            " 0.67426217 0.67067426 0.66712904 0.66361707 0.66013068 0.65666395\n",
            " 0.65321231 0.6497727  0.64634287 0.64292192 0.63950938 0.63610554\n",
            " 0.63271028 0.62932384 0.62594694 0.62257963 0.61922109 0.61587155\n",
            " 0.61252922 0.60919297 0.60586035 0.6025272  0.59918809 0.59583467\n",
            " 0.59245521 0.5890314  0.5855372  0.58193707]\n",
            "6 day output [[0.57818323]]\n",
            "7 day input [0.94285362 0.97477365 0.97636329 0.92294759 0.92300206 0.91843873\n",
            " 0.91281784 0.90700966 0.90184027 0.8972618  0.89316237 0.88942462\n",
            " 0.88593906 0.88261062 0.87936276 0.87613803 0.87289691 0.86961603\n",
            " 0.86628264 0.862894   0.85945386 0.85596907 0.85244828 0.84890109\n",
            " 0.84533626 0.84176165 0.83818293 0.83460474 0.83103138 0.82746339\n",
            " 0.8239035  0.82035112 0.81680614 0.81326813 0.80973619 0.80620933\n",
            " 0.80268705 0.79916823 0.79565197 0.79213786 0.78862458 0.78511173\n",
            " 0.78159845 0.7780844  0.7745685  0.77105016 0.76752949 0.76400506\n",
            " 0.76047647 0.75694311 0.7534045  0.74985975 0.74630839 0.74274945\n",
            " 0.73918259 0.73560685 0.73202181 0.7284264  0.72482055 0.72120291\n",
            " 0.71757305 0.71387601 0.70963222 0.70542622 0.70127529 0.6971857\n",
            " 0.6931687  0.68923259 0.68537909 0.68160468 0.67790204 0.67426217\n",
            " 0.67067426 0.66712904 0.66361707 0.66013068 0.65666395 0.65321231\n",
            " 0.6497727  0.64634287 0.64292192 0.63950938 0.63610554 0.63271028\n",
            " 0.62932384 0.62594694 0.62257963 0.61922109 0.61587155 0.61252922\n",
            " 0.60919297 0.60586035 0.6025272  0.59918809 0.59583467 0.59245521\n",
            " 0.5890314  0.5855372  0.58193707 0.57818323]\n",
            "7 day output [[0.5742189]]\n",
            "8 day input [0.97477365 0.97636329 0.92294759 0.92300206 0.91843873 0.91281784\n",
            " 0.90700966 0.90184027 0.8972618  0.89316237 0.88942462 0.88593906\n",
            " 0.88261062 0.87936276 0.87613803 0.87289691 0.86961603 0.86628264\n",
            " 0.862894   0.85945386 0.85596907 0.85244828 0.84890109 0.84533626\n",
            " 0.84176165 0.83818293 0.83460474 0.83103138 0.82746339 0.8239035\n",
            " 0.82035112 0.81680614 0.81326813 0.80973619 0.80620933 0.80268705\n",
            " 0.79916823 0.79565197 0.79213786 0.78862458 0.78511173 0.78159845\n",
            " 0.7780844  0.7745685  0.77105016 0.76752949 0.76400506 0.76047647\n",
            " 0.75694311 0.7534045  0.74985975 0.74630839 0.74274945 0.73918259\n",
            " 0.73560685 0.73202181 0.7284264  0.72482055 0.72120291 0.71757305\n",
            " 0.71387601 0.70963222 0.70542622 0.70127529 0.6971857  0.6931687\n",
            " 0.68923259 0.68537909 0.68160468 0.67790204 0.67426217 0.67067426\n",
            " 0.66712904 0.66361707 0.66013068 0.65666395 0.65321231 0.6497727\n",
            " 0.64634287 0.64292192 0.63950938 0.63610554 0.63271028 0.62932384\n",
            " 0.62594694 0.62257963 0.61922109 0.61587155 0.61252922 0.60919297\n",
            " 0.60586035 0.6025272  0.59918809 0.59583467 0.59245521 0.5890314\n",
            " 0.5855372  0.58193707 0.57818323 0.57421893]\n",
            "8 day output [[0.56998366]]\n",
            "9 day input [0.97636329 0.92294759 0.92300206 0.91843873 0.91281784 0.90700966\n",
            " 0.90184027 0.8972618  0.89316237 0.88942462 0.88593906 0.88261062\n",
            " 0.87936276 0.87613803 0.87289691 0.86961603 0.86628264 0.862894\n",
            " 0.85945386 0.85596907 0.85244828 0.84890109 0.84533626 0.84176165\n",
            " 0.83818293 0.83460474 0.83103138 0.82746339 0.8239035  0.82035112\n",
            " 0.81680614 0.81326813 0.80973619 0.80620933 0.80268705 0.79916823\n",
            " 0.79565197 0.79213786 0.78862458 0.78511173 0.78159845 0.7780844\n",
            " 0.7745685  0.77105016 0.76752949 0.76400506 0.76047647 0.75694311\n",
            " 0.7534045  0.74985975 0.74630839 0.74274945 0.73918259 0.73560685\n",
            " 0.73202181 0.7284264  0.72482055 0.72120291 0.71757305 0.71387601\n",
            " 0.70963222 0.70542622 0.70127529 0.6971857  0.6931687  0.68923259\n",
            " 0.68537909 0.68160468 0.67790204 0.67426217 0.67067426 0.66712904\n",
            " 0.66361707 0.66013068 0.65666395 0.65321231 0.6497727  0.64634287\n",
            " 0.64292192 0.63950938 0.63610554 0.63271028 0.62932384 0.62594694\n",
            " 0.62257963 0.61922109 0.61587155 0.61252922 0.60919297 0.60586035\n",
            " 0.6025272  0.59918809 0.59583467 0.59245521 0.5890314  0.5855372\n",
            " 0.58193707 0.57818323 0.57421893 0.56998366]\n",
            "9 day output [[0.5654117]]\n",
            "10 day input [0.92294759 0.92300206 0.91843873 0.91281784 0.90700966 0.90184027\n",
            " 0.8972618  0.89316237 0.88942462 0.88593906 0.88261062 0.87936276\n",
            " 0.87613803 0.87289691 0.86961603 0.86628264 0.862894   0.85945386\n",
            " 0.85596907 0.85244828 0.84890109 0.84533626 0.84176165 0.83818293\n",
            " 0.83460474 0.83103138 0.82746339 0.8239035  0.82035112 0.81680614\n",
            " 0.81326813 0.80973619 0.80620933 0.80268705 0.79916823 0.79565197\n",
            " 0.79213786 0.78862458 0.78511173 0.78159845 0.7780844  0.7745685\n",
            " 0.77105016 0.76752949 0.76400506 0.76047647 0.75694311 0.7534045\n",
            " 0.74985975 0.74630839 0.74274945 0.73918259 0.73560685 0.73202181\n",
            " 0.7284264  0.72482055 0.72120291 0.71757305 0.71387601 0.70963222\n",
            " 0.70542622 0.70127529 0.6971857  0.6931687  0.68923259 0.68537909\n",
            " 0.68160468 0.67790204 0.67426217 0.67067426 0.66712904 0.66361707\n",
            " 0.66013068 0.65666395 0.65321231 0.6497727  0.64634287 0.64292192\n",
            " 0.63950938 0.63610554 0.63271028 0.62932384 0.62594694 0.62257963\n",
            " 0.61922109 0.61587155 0.61252922 0.60919297 0.60586035 0.6025272\n",
            " 0.59918809 0.59583467 0.59245521 0.5890314  0.5855372  0.58193707\n",
            " 0.57818323 0.57421893 0.56998366 0.56541169]\n",
            "10 day output [[0.5604623]]\n",
            "11 day input [0.92300206 0.91843873 0.91281784 0.90700966 0.90184027 0.8972618\n",
            " 0.89316237 0.88942462 0.88593906 0.88261062 0.87936276 0.87613803\n",
            " 0.87289691 0.86961603 0.86628264 0.862894   0.85945386 0.85596907\n",
            " 0.85244828 0.84890109 0.84533626 0.84176165 0.83818293 0.83460474\n",
            " 0.83103138 0.82746339 0.8239035  0.82035112 0.81680614 0.81326813\n",
            " 0.80973619 0.80620933 0.80268705 0.79916823 0.79565197 0.79213786\n",
            " 0.78862458 0.78511173 0.78159845 0.7780844  0.7745685  0.77105016\n",
            " 0.76752949 0.76400506 0.76047647 0.75694311 0.7534045  0.74985975\n",
            " 0.74630839 0.74274945 0.73918259 0.73560685 0.73202181 0.7284264\n",
            " 0.72482055 0.72120291 0.71757305 0.71387601 0.70963222 0.70542622\n",
            " 0.70127529 0.6971857  0.6931687  0.68923259 0.68537909 0.68160468\n",
            " 0.67790204 0.67426217 0.67067426 0.66712904 0.66361707 0.66013068\n",
            " 0.65666395 0.65321231 0.6497727  0.64634287 0.64292192 0.63950938\n",
            " 0.63610554 0.63271028 0.62932384 0.62594694 0.62257963 0.61922109\n",
            " 0.61587155 0.61252922 0.60919297 0.60586035 0.6025272  0.59918809\n",
            " 0.59583467 0.59245521 0.5890314  0.5855372  0.58193707 0.57818323\n",
            " 0.57421893 0.56998366 0.56541169 0.5604623 ]\n",
            "11 day output [[0.5551386]]\n",
            "12 day input [0.91843873 0.91281784 0.90700966 0.90184027 0.8972618  0.89316237\n",
            " 0.88942462 0.88593906 0.88261062 0.87936276 0.87613803 0.87289691\n",
            " 0.86961603 0.86628264 0.862894   0.85945386 0.85596907 0.85244828\n",
            " 0.84890109 0.84533626 0.84176165 0.83818293 0.83460474 0.83103138\n",
            " 0.82746339 0.8239035  0.82035112 0.81680614 0.81326813 0.80973619\n",
            " 0.80620933 0.80268705 0.79916823 0.79565197 0.79213786 0.78862458\n",
            " 0.78511173 0.78159845 0.7780844  0.7745685  0.77105016 0.76752949\n",
            " 0.76400506 0.76047647 0.75694311 0.7534045  0.74985975 0.74630839\n",
            " 0.74274945 0.73918259 0.73560685 0.73202181 0.7284264  0.72482055\n",
            " 0.72120291 0.71757305 0.71387601 0.70963222 0.70542622 0.70127529\n",
            " 0.6971857  0.6931687  0.68923259 0.68537909 0.68160468 0.67790204\n",
            " 0.67426217 0.67067426 0.66712904 0.66361707 0.66013068 0.65666395\n",
            " 0.65321231 0.6497727  0.64634287 0.64292192 0.63950938 0.63610554\n",
            " 0.63271028 0.62932384 0.62594694 0.62257963 0.61922109 0.61587155\n",
            " 0.61252922 0.60919297 0.60586035 0.6025272  0.59918809 0.59583467\n",
            " 0.59245521 0.5890314  0.5855372  0.58193707 0.57818323 0.57421893\n",
            " 0.56998366 0.56541169 0.5604623  0.55513859]\n",
            "12 day output [[0.5494731]]\n",
            "13 day input [0.91281784 0.90700966 0.90184027 0.8972618  0.89316237 0.88942462\n",
            " 0.88593906 0.88261062 0.87936276 0.87613803 0.87289691 0.86961603\n",
            " 0.86628264 0.862894   0.85945386 0.85596907 0.85244828 0.84890109\n",
            " 0.84533626 0.84176165 0.83818293 0.83460474 0.83103138 0.82746339\n",
            " 0.8239035  0.82035112 0.81680614 0.81326813 0.80973619 0.80620933\n",
            " 0.80268705 0.79916823 0.79565197 0.79213786 0.78862458 0.78511173\n",
            " 0.78159845 0.7780844  0.7745685  0.77105016 0.76752949 0.76400506\n",
            " 0.76047647 0.75694311 0.7534045  0.74985975 0.74630839 0.74274945\n",
            " 0.73918259 0.73560685 0.73202181 0.7284264  0.72482055 0.72120291\n",
            " 0.71757305 0.71387601 0.70963222 0.70542622 0.70127529 0.6971857\n",
            " 0.6931687  0.68923259 0.68537909 0.68160468 0.67790204 0.67426217\n",
            " 0.67067426 0.66712904 0.66361707 0.66013068 0.65666395 0.65321231\n",
            " 0.6497727  0.64634287 0.64292192 0.63950938 0.63610554 0.63271028\n",
            " 0.62932384 0.62594694 0.62257963 0.61922109 0.61587155 0.61252922\n",
            " 0.60919297 0.60586035 0.6025272  0.59918809 0.59583467 0.59245521\n",
            " 0.5890314  0.5855372  0.58193707 0.57818323 0.57421893 0.56998366\n",
            " 0.56541169 0.5604623  0.55513859 0.54947311]\n",
            "13 day output [[0.5435981]]\n",
            "14 day input [0.90700966 0.90184027 0.8972618  0.89316237 0.88942462 0.88593906\n",
            " 0.88261062 0.87936276 0.87613803 0.87289691 0.86961603 0.86628264\n",
            " 0.862894   0.85945386 0.85596907 0.85244828 0.84890109 0.84533626\n",
            " 0.84176165 0.83818293 0.83460474 0.83103138 0.82746339 0.8239035\n",
            " 0.82035112 0.81680614 0.81326813 0.80973619 0.80620933 0.80268705\n",
            " 0.79916823 0.79565197 0.79213786 0.78862458 0.78511173 0.78159845\n",
            " 0.7780844  0.7745685  0.77105016 0.76752949 0.76400506 0.76047647\n",
            " 0.75694311 0.7534045  0.74985975 0.74630839 0.74274945 0.73918259\n",
            " 0.73560685 0.73202181 0.7284264  0.72482055 0.72120291 0.71757305\n",
            " 0.71387601 0.70963222 0.70542622 0.70127529 0.6971857  0.6931687\n",
            " 0.68923259 0.68537909 0.68160468 0.67790204 0.67426217 0.67067426\n",
            " 0.66712904 0.66361707 0.66013068 0.65666395 0.65321231 0.6497727\n",
            " 0.64634287 0.64292192 0.63950938 0.63610554 0.63271028 0.62932384\n",
            " 0.62594694 0.62257963 0.61922109 0.61587155 0.61252922 0.60919297\n",
            " 0.60586035 0.6025272  0.59918809 0.59583467 0.59245521 0.5890314\n",
            " 0.5855372  0.58193707 0.57818323 0.57421893 0.56998366 0.56541169\n",
            " 0.5604623  0.55513859 0.54947311 0.54359812]\n",
            "14 day output [[0.53774893]]\n",
            "15 day input [0.90184027 0.8972618  0.89316237 0.88942462 0.88593906 0.88261062\n",
            " 0.87936276 0.87613803 0.87289691 0.86961603 0.86628264 0.862894\n",
            " 0.85945386 0.85596907 0.85244828 0.84890109 0.84533626 0.84176165\n",
            " 0.83818293 0.83460474 0.83103138 0.82746339 0.8239035  0.82035112\n",
            " 0.81680614 0.81326813 0.80973619 0.80620933 0.80268705 0.79916823\n",
            " 0.79565197 0.79213786 0.78862458 0.78511173 0.78159845 0.7780844\n",
            " 0.7745685  0.77105016 0.76752949 0.76400506 0.76047647 0.75694311\n",
            " 0.7534045  0.74985975 0.74630839 0.74274945 0.73918259 0.73560685\n",
            " 0.73202181 0.7284264  0.72482055 0.72120291 0.71757305 0.71387601\n",
            " 0.70963222 0.70542622 0.70127529 0.6971857  0.6931687  0.68923259\n",
            " 0.68537909 0.68160468 0.67790204 0.67426217 0.67067426 0.66712904\n",
            " 0.66361707 0.66013068 0.65666395 0.65321231 0.6497727  0.64634287\n",
            " 0.64292192 0.63950938 0.63610554 0.63271028 0.62932384 0.62594694\n",
            " 0.62257963 0.61922109 0.61587155 0.61252922 0.60919297 0.60586035\n",
            " 0.6025272  0.59918809 0.59583467 0.59245521 0.5890314  0.5855372\n",
            " 0.58193707 0.57818323 0.57421893 0.56998366 0.56541169 0.5604623\n",
            " 0.55513859 0.54947311 0.54359812 0.53774893]\n",
            "15 day output [[0.53226614]]\n",
            "16 day input [0.8972618  0.89316237 0.88942462 0.88593906 0.88261062 0.87936276\n",
            " 0.87613803 0.87289691 0.86961603 0.86628264 0.862894   0.85945386\n",
            " 0.85596907 0.85244828 0.84890109 0.84533626 0.84176165 0.83818293\n",
            " 0.83460474 0.83103138 0.82746339 0.8239035  0.82035112 0.81680614\n",
            " 0.81326813 0.80973619 0.80620933 0.80268705 0.79916823 0.79565197\n",
            " 0.79213786 0.78862458 0.78511173 0.78159845 0.7780844  0.7745685\n",
            " 0.77105016 0.76752949 0.76400506 0.76047647 0.75694311 0.7534045\n",
            " 0.74985975 0.74630839 0.74274945 0.73918259 0.73560685 0.73202181\n",
            " 0.7284264  0.72482055 0.72120291 0.71757305 0.71387601 0.70963222\n",
            " 0.70542622 0.70127529 0.6971857  0.6931687  0.68923259 0.68537909\n",
            " 0.68160468 0.67790204 0.67426217 0.67067426 0.66712904 0.66361707\n",
            " 0.66013068 0.65666395 0.65321231 0.6497727  0.64634287 0.64292192\n",
            " 0.63950938 0.63610554 0.63271028 0.62932384 0.62594694 0.62257963\n",
            " 0.61922109 0.61587155 0.61252922 0.60919297 0.60586035 0.6025272\n",
            " 0.59918809 0.59583467 0.59245521 0.5890314  0.5855372  0.58193707\n",
            " 0.57818323 0.57421893 0.56998366 0.56541169 0.5604623  0.55513859\n",
            " 0.54947311 0.54359812 0.53774893 0.53226614]\n",
            "16 day output [[0.5275677]]\n",
            "17 day input [0.89316237 0.88942462 0.88593906 0.88261062 0.87936276 0.87613803\n",
            " 0.87289691 0.86961603 0.86628264 0.862894   0.85945386 0.85596907\n",
            " 0.85244828 0.84890109 0.84533626 0.84176165 0.83818293 0.83460474\n",
            " 0.83103138 0.82746339 0.8239035  0.82035112 0.81680614 0.81326813\n",
            " 0.80973619 0.80620933 0.80268705 0.79916823 0.79565197 0.79213786\n",
            " 0.78862458 0.78511173 0.78159845 0.7780844  0.7745685  0.77105016\n",
            " 0.76752949 0.76400506 0.76047647 0.75694311 0.7534045  0.74985975\n",
            " 0.74630839 0.74274945 0.73918259 0.73560685 0.73202181 0.7284264\n",
            " 0.72482055 0.72120291 0.71757305 0.71387601 0.70963222 0.70542622\n",
            " 0.70127529 0.6971857  0.6931687  0.68923259 0.68537909 0.68160468\n",
            " 0.67790204 0.67426217 0.67067426 0.66712904 0.66361707 0.66013068\n",
            " 0.65666395 0.65321231 0.6497727  0.64634287 0.64292192 0.63950938\n",
            " 0.63610554 0.63271028 0.62932384 0.62594694 0.62257963 0.61922109\n",
            " 0.61587155 0.61252922 0.60919297 0.60586035 0.6025272  0.59918809\n",
            " 0.59583467 0.59245521 0.5890314  0.5855372  0.58193707 0.57818323\n",
            " 0.57421893 0.56998366 0.56541169 0.5604623  0.55513859 0.54947311\n",
            " 0.54359812 0.53774893 0.53226614 0.52756768]\n",
            "17 day output [[0.5240885]]\n",
            "18 day input [0.88942462 0.88593906 0.88261062 0.87936276 0.87613803 0.87289691\n",
            " 0.86961603 0.86628264 0.862894   0.85945386 0.85596907 0.85244828\n",
            " 0.84890109 0.84533626 0.84176165 0.83818293 0.83460474 0.83103138\n",
            " 0.82746339 0.8239035  0.82035112 0.81680614 0.81326813 0.80973619\n",
            " 0.80620933 0.80268705 0.79916823 0.79565197 0.79213786 0.78862458\n",
            " 0.78511173 0.78159845 0.7780844  0.7745685  0.77105016 0.76752949\n",
            " 0.76400506 0.76047647 0.75694311 0.7534045  0.74985975 0.74630839\n",
            " 0.74274945 0.73918259 0.73560685 0.73202181 0.7284264  0.72482055\n",
            " 0.72120291 0.71757305 0.71387601 0.70963222 0.70542622 0.70127529\n",
            " 0.6971857  0.6931687  0.68923259 0.68537909 0.68160468 0.67790204\n",
            " 0.67426217 0.67067426 0.66712904 0.66361707 0.66013068 0.65666395\n",
            " 0.65321231 0.6497727  0.64634287 0.64292192 0.63950938 0.63610554\n",
            " 0.63271028 0.62932384 0.62594694 0.62257963 0.61922109 0.61587155\n",
            " 0.61252922 0.60919297 0.60586035 0.6025272  0.59918809 0.59583467\n",
            " 0.59245521 0.5890314  0.5855372  0.58193707 0.57818323 0.57421893\n",
            " 0.56998366 0.56541169 0.5604623  0.55513859 0.54947311 0.54359812\n",
            " 0.53774893 0.53226614 0.52756768 0.5240885 ]\n",
            "18 day output [[0.52220297]]\n",
            "19 day input [0.88593906 0.88261062 0.87936276 0.87613803 0.87289691 0.86961603\n",
            " 0.86628264 0.862894   0.85945386 0.85596907 0.85244828 0.84890109\n",
            " 0.84533626 0.84176165 0.83818293 0.83460474 0.83103138 0.82746339\n",
            " 0.8239035  0.82035112 0.81680614 0.81326813 0.80973619 0.80620933\n",
            " 0.80268705 0.79916823 0.79565197 0.79213786 0.78862458 0.78511173\n",
            " 0.78159845 0.7780844  0.7745685  0.77105016 0.76752949 0.76400506\n",
            " 0.76047647 0.75694311 0.7534045  0.74985975 0.74630839 0.74274945\n",
            " 0.73918259 0.73560685 0.73202181 0.7284264  0.72482055 0.72120291\n",
            " 0.71757305 0.71387601 0.70963222 0.70542622 0.70127529 0.6971857\n",
            " 0.6931687  0.68923259 0.68537909 0.68160468 0.67790204 0.67426217\n",
            " 0.67067426 0.66712904 0.66361707 0.66013068 0.65666395 0.65321231\n",
            " 0.6497727  0.64634287 0.64292192 0.63950938 0.63610554 0.63271028\n",
            " 0.62932384 0.62594694 0.62257963 0.61922109 0.61587155 0.61252922\n",
            " 0.60919297 0.60586035 0.6025272  0.59918809 0.59583467 0.59245521\n",
            " 0.5890314  0.5855372  0.58193707 0.57818323 0.57421893 0.56998366\n",
            " 0.56541169 0.5604623  0.55513859 0.54947311 0.54359812 0.53774893\n",
            " 0.53226614 0.52756768 0.5240885  0.52220297]\n",
            "19 day output [[0.5221536]]\n",
            "20 day input [0.88261062 0.87936276 0.87613803 0.87289691 0.86961603 0.86628264\n",
            " 0.862894   0.85945386 0.85596907 0.85244828 0.84890109 0.84533626\n",
            " 0.84176165 0.83818293 0.83460474 0.83103138 0.82746339 0.8239035\n",
            " 0.82035112 0.81680614 0.81326813 0.80973619 0.80620933 0.80268705\n",
            " 0.79916823 0.79565197 0.79213786 0.78862458 0.78511173 0.78159845\n",
            " 0.7780844  0.7745685  0.77105016 0.76752949 0.76400506 0.76047647\n",
            " 0.75694311 0.7534045  0.74985975 0.74630839 0.74274945 0.73918259\n",
            " 0.73560685 0.73202181 0.7284264  0.72482055 0.72120291 0.71757305\n",
            " 0.71387601 0.70963222 0.70542622 0.70127529 0.6971857  0.6931687\n",
            " 0.68923259 0.68537909 0.68160468 0.67790204 0.67426217 0.67067426\n",
            " 0.66712904 0.66361707 0.66013068 0.65666395 0.65321231 0.6497727\n",
            " 0.64634287 0.64292192 0.63950938 0.63610554 0.63271028 0.62932384\n",
            " 0.62594694 0.62257963 0.61922109 0.61587155 0.61252922 0.60919297\n",
            " 0.60586035 0.6025272  0.59918809 0.59583467 0.59245521 0.5890314\n",
            " 0.5855372  0.58193707 0.57818323 0.57421893 0.56998366 0.56541169\n",
            " 0.5604623  0.55513859 0.54947311 0.54359812 0.53774893 0.53226614\n",
            " 0.52756768 0.5240885  0.52220297 0.52215362]\n",
            "20 day output [[0.5240134]]\n",
            "21 day input [0.87936276 0.87613803 0.87289691 0.86961603 0.86628264 0.862894\n",
            " 0.85945386 0.85596907 0.85244828 0.84890109 0.84533626 0.84176165\n",
            " 0.83818293 0.83460474 0.83103138 0.82746339 0.8239035  0.82035112\n",
            " 0.81680614 0.81326813 0.80973619 0.80620933 0.80268705 0.79916823\n",
            " 0.79565197 0.79213786 0.78862458 0.78511173 0.78159845 0.7780844\n",
            " 0.7745685  0.77105016 0.76752949 0.76400506 0.76047647 0.75694311\n",
            " 0.7534045  0.74985975 0.74630839 0.74274945 0.73918259 0.73560685\n",
            " 0.73202181 0.7284264  0.72482055 0.72120291 0.71757305 0.71387601\n",
            " 0.70963222 0.70542622 0.70127529 0.6971857  0.6931687  0.68923259\n",
            " 0.68537909 0.68160468 0.67790204 0.67426217 0.67067426 0.66712904\n",
            " 0.66361707 0.66013068 0.65666395 0.65321231 0.6497727  0.64634287\n",
            " 0.64292192 0.63950938 0.63610554 0.63271028 0.62932384 0.62594694\n",
            " 0.62257963 0.61922109 0.61587155 0.61252922 0.60919297 0.60586035\n",
            " 0.6025272  0.59918809 0.59583467 0.59245521 0.5890314  0.5855372\n",
            " 0.58193707 0.57818323 0.57421893 0.56998366 0.56541169 0.5604623\n",
            " 0.55513859 0.54947311 0.54359812 0.53774893 0.53226614 0.52756768\n",
            " 0.5240885  0.52220297 0.52215362 0.5240134 ]\n",
            "21 day output [[0.5276849]]\n",
            "22 day input [0.87613803 0.87289691 0.86961603 0.86628264 0.862894   0.85945386\n",
            " 0.85596907 0.85244828 0.84890109 0.84533626 0.84176165 0.83818293\n",
            " 0.83460474 0.83103138 0.82746339 0.8239035  0.82035112 0.81680614\n",
            " 0.81326813 0.80973619 0.80620933 0.80268705 0.79916823 0.79565197\n",
            " 0.79213786 0.78862458 0.78511173 0.78159845 0.7780844  0.7745685\n",
            " 0.77105016 0.76752949 0.76400506 0.76047647 0.75694311 0.7534045\n",
            " 0.74985975 0.74630839 0.74274945 0.73918259 0.73560685 0.73202181\n",
            " 0.7284264  0.72482055 0.72120291 0.71757305 0.71387601 0.70963222\n",
            " 0.70542622 0.70127529 0.6971857  0.6931687  0.68923259 0.68537909\n",
            " 0.68160468 0.67790204 0.67426217 0.67067426 0.66712904 0.66361707\n",
            " 0.66013068 0.65666395 0.65321231 0.6497727  0.64634287 0.64292192\n",
            " 0.63950938 0.63610554 0.63271028 0.62932384 0.62594694 0.62257963\n",
            " 0.61922109 0.61587155 0.61252922 0.60919297 0.60586035 0.6025272\n",
            " 0.59918809 0.59583467 0.59245521 0.5890314  0.5855372  0.58193707\n",
            " 0.57818323 0.57421893 0.56998366 0.56541169 0.5604623  0.55513859\n",
            " 0.54947311 0.54359812 0.53774893 0.53226614 0.52756768 0.5240885\n",
            " 0.52220297 0.52215362 0.5240134  0.52768493]\n",
            "22 day output [[0.53293246]]\n",
            "23 day input [0.87289691 0.86961603 0.86628264 0.862894   0.85945386 0.85596907\n",
            " 0.85244828 0.84890109 0.84533626 0.84176165 0.83818293 0.83460474\n",
            " 0.83103138 0.82746339 0.8239035  0.82035112 0.81680614 0.81326813\n",
            " 0.80973619 0.80620933 0.80268705 0.79916823 0.79565197 0.79213786\n",
            " 0.78862458 0.78511173 0.78159845 0.7780844  0.7745685  0.77105016\n",
            " 0.76752949 0.76400506 0.76047647 0.75694311 0.7534045  0.74985975\n",
            " 0.74630839 0.74274945 0.73918259 0.73560685 0.73202181 0.7284264\n",
            " 0.72482055 0.72120291 0.71757305 0.71387601 0.70963222 0.70542622\n",
            " 0.70127529 0.6971857  0.6931687  0.68923259 0.68537909 0.68160468\n",
            " 0.67790204 0.67426217 0.67067426 0.66712904 0.66361707 0.66013068\n",
            " 0.65666395 0.65321231 0.6497727  0.64634287 0.64292192 0.63950938\n",
            " 0.63610554 0.63271028 0.62932384 0.62594694 0.62257963 0.61922109\n",
            " 0.61587155 0.61252922 0.60919297 0.60586035 0.6025272  0.59918809\n",
            " 0.59583467 0.59245521 0.5890314  0.5855372  0.58193707 0.57818323\n",
            " 0.57421893 0.56998366 0.56541169 0.5604623  0.55513859 0.54947311\n",
            " 0.54359812 0.53774893 0.53226614 0.52756768 0.5240885  0.52220297\n",
            " 0.52215362 0.5240134  0.52768493 0.53293246]\n",
            "23 day output [[0.5394277]]\n",
            "24 day input [0.86961603 0.86628264 0.862894   0.85945386 0.85596907 0.85244828\n",
            " 0.84890109 0.84533626 0.84176165 0.83818293 0.83460474 0.83103138\n",
            " 0.82746339 0.8239035  0.82035112 0.81680614 0.81326813 0.80973619\n",
            " 0.80620933 0.80268705 0.79916823 0.79565197 0.79213786 0.78862458\n",
            " 0.78511173 0.78159845 0.7780844  0.7745685  0.77105016 0.76752949\n",
            " 0.76400506 0.76047647 0.75694311 0.7534045  0.74985975 0.74630839\n",
            " 0.74274945 0.73918259 0.73560685 0.73202181 0.7284264  0.72482055\n",
            " 0.72120291 0.71757305 0.71387601 0.70963222 0.70542622 0.70127529\n",
            " 0.6971857  0.6931687  0.68923259 0.68537909 0.68160468 0.67790204\n",
            " 0.67426217 0.67067426 0.66712904 0.66361707 0.66013068 0.65666395\n",
            " 0.65321231 0.6497727  0.64634287 0.64292192 0.63950938 0.63610554\n",
            " 0.63271028 0.62932384 0.62594694 0.62257963 0.61922109 0.61587155\n",
            " 0.61252922 0.60919297 0.60586035 0.6025272  0.59918809 0.59583467\n",
            " 0.59245521 0.5890314  0.5855372  0.58193707 0.57818323 0.57421893\n",
            " 0.56998366 0.56541169 0.5604623  0.55513859 0.54947311 0.54359812\n",
            " 0.53774893 0.53226614 0.52756768 0.5240885  0.52220297 0.52215362\n",
            " 0.5240134  0.52768493 0.53293246 0.5394277 ]\n",
            "24 day output [[0.54679674]]\n",
            "25 day input [0.86628264 0.862894   0.85945386 0.85596907 0.85244828 0.84890109\n",
            " 0.84533626 0.84176165 0.83818293 0.83460474 0.83103138 0.82746339\n",
            " 0.8239035  0.82035112 0.81680614 0.81326813 0.80973619 0.80620933\n",
            " 0.80268705 0.79916823 0.79565197 0.79213786 0.78862458 0.78511173\n",
            " 0.78159845 0.7780844  0.7745685  0.77105016 0.76752949 0.76400506\n",
            " 0.76047647 0.75694311 0.7534045  0.74985975 0.74630839 0.74274945\n",
            " 0.73918259 0.73560685 0.73202181 0.7284264  0.72482055 0.72120291\n",
            " 0.71757305 0.71387601 0.70963222 0.70542622 0.70127529 0.6971857\n",
            " 0.6931687  0.68923259 0.68537909 0.68160468 0.67790204 0.67426217\n",
            " 0.67067426 0.66712904 0.66361707 0.66013068 0.65666395 0.65321231\n",
            " 0.6497727  0.64634287 0.64292192 0.63950938 0.63610554 0.63271028\n",
            " 0.62932384 0.62594694 0.62257963 0.61922109 0.61587155 0.61252922\n",
            " 0.60919297 0.60586035 0.6025272  0.59918809 0.59583467 0.59245521\n",
            " 0.5890314  0.5855372  0.58193707 0.57818323 0.57421893 0.56998366\n",
            " 0.56541169 0.5604623  0.55513859 0.54947311 0.54359812 0.53774893\n",
            " 0.53226614 0.52756768 0.5240885  0.52220297 0.52215362 0.5240134\n",
            " 0.52768493 0.53293246 0.5394277  0.54679674]\n",
            "25 day output [[0.5546592]]\n",
            "26 day input [0.862894   0.85945386 0.85596907 0.85244828 0.84890109 0.84533626\n",
            " 0.84176165 0.83818293 0.83460474 0.83103138 0.82746339 0.8239035\n",
            " 0.82035112 0.81680614 0.81326813 0.80973619 0.80620933 0.80268705\n",
            " 0.79916823 0.79565197 0.79213786 0.78862458 0.78511173 0.78159845\n",
            " 0.7780844  0.7745685  0.77105016 0.76752949 0.76400506 0.76047647\n",
            " 0.75694311 0.7534045  0.74985975 0.74630839 0.74274945 0.73918259\n",
            " 0.73560685 0.73202181 0.7284264  0.72482055 0.72120291 0.71757305\n",
            " 0.71387601 0.70963222 0.70542622 0.70127529 0.6971857  0.6931687\n",
            " 0.68923259 0.68537909 0.68160468 0.67790204 0.67426217 0.67067426\n",
            " 0.66712904 0.66361707 0.66013068 0.65666395 0.65321231 0.6497727\n",
            " 0.64634287 0.64292192 0.63950938 0.63610554 0.63271028 0.62932384\n",
            " 0.62594694 0.62257963 0.61922109 0.61587155 0.61252922 0.60919297\n",
            " 0.60586035 0.6025272  0.59918809 0.59583467 0.59245521 0.5890314\n",
            " 0.5855372  0.58193707 0.57818323 0.57421893 0.56998366 0.56541169\n",
            " 0.5604623  0.55513859 0.54947311 0.54359812 0.53774893 0.53226614\n",
            " 0.52756768 0.5240885  0.52220297 0.52215362 0.5240134  0.52768493\n",
            " 0.53293246 0.5394277  0.54679674 0.55465919]\n",
            "26 day output [[0.5626646]]\n",
            "27 day input [0.85945386 0.85596907 0.85244828 0.84890109 0.84533626 0.84176165\n",
            " 0.83818293 0.83460474 0.83103138 0.82746339 0.8239035  0.82035112\n",
            " 0.81680614 0.81326813 0.80973619 0.80620933 0.80268705 0.79916823\n",
            " 0.79565197 0.79213786 0.78862458 0.78511173 0.78159845 0.7780844\n",
            " 0.7745685  0.77105016 0.76752949 0.76400506 0.76047647 0.75694311\n",
            " 0.7534045  0.74985975 0.74630839 0.74274945 0.73918259 0.73560685\n",
            " 0.73202181 0.7284264  0.72482055 0.72120291 0.71757305 0.71387601\n",
            " 0.70963222 0.70542622 0.70127529 0.6971857  0.6931687  0.68923259\n",
            " 0.68537909 0.68160468 0.67790204 0.67426217 0.67067426 0.66712904\n",
            " 0.66361707 0.66013068 0.65666395 0.65321231 0.6497727  0.64634287\n",
            " 0.64292192 0.63950938 0.63610554 0.63271028 0.62932384 0.62594694\n",
            " 0.62257963 0.61922109 0.61587155 0.61252922 0.60919297 0.60586035\n",
            " 0.6025272  0.59918809 0.59583467 0.59245521 0.5890314  0.5855372\n",
            " 0.58193707 0.57818323 0.57421893 0.56998366 0.56541169 0.5604623\n",
            " 0.55513859 0.54947311 0.54359812 0.53774893 0.53226614 0.52756768\n",
            " 0.5240885  0.52220297 0.52215362 0.5240134  0.52768493 0.53293246\n",
            " 0.5394277  0.54679674 0.55465919 0.56266463]\n",
            "27 day output [[0.5704973]]\n",
            "28 day input [0.85596907 0.85244828 0.84890109 0.84533626 0.84176165 0.83818293\n",
            " 0.83460474 0.83103138 0.82746339 0.8239035  0.82035112 0.81680614\n",
            " 0.81326813 0.80973619 0.80620933 0.80268705 0.79916823 0.79565197\n",
            " 0.79213786 0.78862458 0.78511173 0.78159845 0.7780844  0.7745685\n",
            " 0.77105016 0.76752949 0.76400506 0.76047647 0.75694311 0.7534045\n",
            " 0.74985975 0.74630839 0.74274945 0.73918259 0.73560685 0.73202181\n",
            " 0.7284264  0.72482055 0.72120291 0.71757305 0.71387601 0.70963222\n",
            " 0.70542622 0.70127529 0.6971857  0.6931687  0.68923259 0.68537909\n",
            " 0.68160468 0.67790204 0.67426217 0.67067426 0.66712904 0.66361707\n",
            " 0.66013068 0.65666395 0.65321231 0.6497727  0.64634287 0.64292192\n",
            " 0.63950938 0.63610554 0.63271028 0.62932384 0.62594694 0.62257963\n",
            " 0.61922109 0.61587155 0.61252922 0.60919297 0.60586035 0.6025272\n",
            " 0.59918809 0.59583467 0.59245521 0.5890314  0.5855372  0.58193707\n",
            " 0.57818323 0.57421893 0.56998366 0.56541169 0.5604623  0.55513859\n",
            " 0.54947311 0.54359812 0.53774893 0.53226614 0.52756768 0.5240885\n",
            " 0.52220297 0.52215362 0.5240134  0.52768493 0.53293246 0.5394277\n",
            " 0.54679674 0.55465919 0.56266463 0.57049727]\n",
            "28 day output [[0.5779033]]\n",
            "29 day input [0.85244828 0.84890109 0.84533626 0.84176165 0.83818293 0.83460474\n",
            " 0.83103138 0.82746339 0.8239035  0.82035112 0.81680614 0.81326813\n",
            " 0.80973619 0.80620933 0.80268705 0.79916823 0.79565197 0.79213786\n",
            " 0.78862458 0.78511173 0.78159845 0.7780844  0.7745685  0.77105016\n",
            " 0.76752949 0.76400506 0.76047647 0.75694311 0.7534045  0.74985975\n",
            " 0.74630839 0.74274945 0.73918259 0.73560685 0.73202181 0.7284264\n",
            " 0.72482055 0.72120291 0.71757305 0.71387601 0.70963222 0.70542622\n",
            " 0.70127529 0.6971857  0.6931687  0.68923259 0.68537909 0.68160468\n",
            " 0.67790204 0.67426217 0.67067426 0.66712904 0.66361707 0.66013068\n",
            " 0.65666395 0.65321231 0.6497727  0.64634287 0.64292192 0.63950938\n",
            " 0.63610554 0.63271028 0.62932384 0.62594694 0.62257963 0.61922109\n",
            " 0.61587155 0.61252922 0.60919297 0.60586035 0.6025272  0.59918809\n",
            " 0.59583467 0.59245521 0.5890314  0.5855372  0.58193707 0.57818323\n",
            " 0.57421893 0.56998366 0.56541169 0.5604623  0.55513859 0.54947311\n",
            " 0.54359812 0.53774893 0.53226614 0.52756768 0.5240885  0.52220297\n",
            " 0.52215362 0.5240134  0.52768493 0.53293246 0.5394277  0.54679674\n",
            " 0.55465919 0.56266463 0.57049727 0.57790327]\n",
            "29 day output [[0.58468914]]\n",
            "[[0.5991880893707275], [0.5958346724510193], [0.5924552083015442], [0.5890313982963562], [0.5855371952056885], [0.5819370746612549], [0.5781832337379456], [0.5742189288139343], [0.5699836611747742], [0.5654116868972778], [0.5604622960090637], [0.5551385879516602], [0.5494731068611145], [0.5435981154441833], [0.5377489328384399], [0.5322661399841309], [0.5275676846504211], [0.5240885019302368], [0.5222029685974121], [0.5221536159515381], [0.5240134000778198], [0.5276849269866943], [0.532932460308075], [0.5394276976585388], [0.5467967391014099], [0.5546591877937317], [0.5626646280288696], [0.5704972743988037], [0.5779032707214355], [0.5846891403198242]]\n"
          ],
          "name": "stdout"
        }
      ]
    },
    {
      "cell_type": "code",
      "metadata": {
        "id": "At22M8JMq3rS"
      },
      "source": [
        "day_new = np.arange(1,101)\n",
        "day_pred = np.arange(101,131)"
      ],
      "execution_count": 43,
      "outputs": []
    },
    {
      "cell_type": "code",
      "metadata": {
        "id": "QxN1Zz8lrCKA"
      },
      "source": [
        "df2 = df1.tolist()\n",
        "df2.extend(lst_output)"
      ],
      "execution_count": 45,
      "outputs": []
    },
    {
      "cell_type": "code",
      "metadata": {
        "colab": {
          "base_uri": "https://localhost:8080/"
        },
        "id": "iT5BkVFcrEd4",
        "outputId": "13c79e89-0274-4976-e696-d66b72e4b066"
      },
      "source": [
        "len(df1)"
      ],
      "execution_count": 46,
      "outputs": [
        {
          "output_type": "execute_result",
          "data": {
            "text/plain": [
              "1228"
            ]
          },
          "metadata": {
            "tags": []
          },
          "execution_count": 46
        }
      ]
    },
    {
      "cell_type": "code",
      "metadata": {
        "colab": {
          "base_uri": "https://localhost:8080/",
          "height": 282
        },
        "id": "MRkAEbmvrOjc",
        "outputId": "1a5c3229-23e8-45a0-a981-b41102478770"
      },
      "source": [
        "plt.plot(day_new, scaler.inverse_transform(df1[1128:]))\n",
        "plt.plot(day_pred, scaler.inverse_transform(lst_output))"
      ],
      "execution_count": 47,
      "outputs": [
        {
          "output_type": "execute_result",
          "data": {
            "text/plain": [
              "[<matplotlib.lines.Line2D at 0x7ff9bb838a90>]"
            ]
          },
          "metadata": {
            "tags": []
          },
          "execution_count": 47
        },
        {
          "output_type": "display_data",
          "data": {
            "image/png": "[encoded data removed]",
            "text/plain": [
              "<Figure size 432x288 with 1 Axes>"
            ]
          },
          "metadata": {
            "tags": [],
            "needs_background": "light"
          }
        }
      ]
    },
    {
      "cell_type": "code",
      "metadata": {
        "id": "dDjLRG7QrVp_"
      },
      "source": [
        "df2=scaler.inverse_transform(df2).tolist()"
      ],
      "execution_count": 48,
      "outputs": []
    },
    {
      "cell_type": "code",
      "metadata": {
        "colab": {
          "base_uri": "https://localhost:8080/",
          "height": 282
        },
        "id": "GuNWJAXxrsh-",
        "outputId": "8f7f4eb6-d016-428b-925e-31d52acbe555"
      },
      "source": [
        "plt.plot(df2)"
      ],
      "execution_count": 49,
      "outputs": [
        {
          "output_type": "execute_result",
          "data": {
            "text/plain": [
              "[<matplotlib.lines.Line2D at 0x7ff9ba198d10>]"
            ]
          },
          "metadata": {
            "tags": []
          },
          "execution_count": 49
        },
        {
          "output_type": "display_data",
          "data": {
            "image/png": "[encoded data removed]",
            "text/plain": [
              "<Figure size 432x288 with 1 Axes>"
            ]
          },
          "metadata": {
            "tags": [],
            "needs_background": "light"
          }
        }
      ]
    },
    {
      "cell_type": "code",
      "metadata": {
        "id": "Lxj0vf4DrvCr"
      },
      "source": [
        ""
      ],
      "execution_count": null,
      "outputs": []
    }
  ]
}